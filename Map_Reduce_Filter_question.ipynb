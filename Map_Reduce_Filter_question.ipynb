{
 "cells": [
  {
   "cell_type": "code",
   "execution_count": 5,
   "metadata": {},
   "outputs": [
    {
     "data": {
      "text/plain": [
       "[6, 18, 105, 192, 69, 36]"
      ]
     },
     "execution_count": 5,
     "metadata": {},
     "output_type": "execute_result"
    }
   ],
   "source": [
    "# Write a Python program to triple all numbers of a given list of integers. Use Python map\n",
    "data =[ 2,6,35,64,23,12]\n",
    "list(map(lambda num:num*3 , data))\n"
   ]
  },
  {
   "cell_type": "code",
   "execution_count": 7,
   "metadata": {},
   "outputs": [
    {
     "data": {
      "text/plain": [
       "[3, 6, 9, 12]"
      ]
     },
     "execution_count": 7,
     "metadata": {},
     "output_type": "execute_result"
    }
   ],
   "source": [
    "# Write a Python program to add three given lists using Python map and lambda\n",
    "data1 =[2,4,6,8]\n",
    "data2 =[1,2,3,4]\n",
    "list(map(lambda x,y:x+y ,data1,data2))"
   ]
  },
  {
   "cell_type": "code",
   "execution_count": 12,
   "metadata": {},
   "outputs": [
    {
     "data": {
      "text/plain": [
       "[(6, 6), (6, 4), (10, -4), (16, 2)]"
      ]
     },
     "execution_count": 12,
     "metadata": {},
     "output_type": "execute_result"
    }
   ],
   "source": [
    "# Write a Python program to add two given lists and find the difference between lists\n",
    "\n",
    "\"\"\"\n",
    "sample list\n",
    "nums1 = [6, 5, 3, 9]\n",
    "nums2 = [0, 1, 7, 7]\n",
    "\n",
    "\n",
    "output  - [(6, 6), (6, 4), (10, -4), (16, 2)]\n",
    "\n",
    "\"\"\"\n",
    "                                                                                                                       \n",
    "nums1 = [6, 5, 3, 9]\n",
    "nums2 = [0, 1, 7, 7]\n",
    "\n",
    "list(map(lambda x,y:(x+y,x-y) ,nums1,nums2))"
   ]
  },
  {
   "cell_type": "code",
   "execution_count": 17,
   "metadata": {},
   "outputs": [
    {
     "name": "stdout",
     "output_type": "stream",
     "text": [
      "{('I', 'i'), ('U', 'u'), ('B', 'b'), ('O', 'o'), ('A', 'a'), ('F', 'f'), ('E', 'e')}\n"
     ]
    }
   ],
   "source": [
    "# Write a Python program to convert all the characters in uppercase and lowercase and eliminate duplicate letters from a given sequence\n",
    "def new_lst(a):\n",
    "    return a.upper(),a.lower()\n",
    "\n",
    "chrars = {'a', 'b', 'E', 'f', 'a', 'i', 'o', 'U', 'a'}\n",
    "\n",
    "a=list(map(new_lst,chrars))\n",
    "print(set(a))"
   ]
  },
  {
   "cell_type": "code",
   "execution_count": 22,
   "metadata": {},
   "outputs": [
    {
     "name": "stdout",
     "output_type": "stream",
     "text": [
      "Fruits with prefix 'a': ['Apple']\n"
     ]
    }
   ],
   "source": [
    "# Filter out the fruits that start with A \n",
    "\n",
    "fruits = ['Apple','Banana', 'Orange', 'Mango', 'Grape']\n",
    "with_a=list(filter(lambda a:a.startswith(\"A\"),fruits))\n",
    "print(\"Fruits with prefix 'a':\",with_a)"
   ]
  },
  {
   "cell_type": "code",
   "execution_count": 23,
   "metadata": {},
   "outputs": [
    {
     "name": "stdout",
     "output_type": "stream",
     "text": [
      "positve number from a list is: [2, 1, 7]\n"
     ]
    }
   ],
   "source": [
    "# Filter out the positve number from a list\n",
    "num_ = [ 2,1,-3,7,-4,-8,-2]\n",
    "positive_num = list(filter(lambda a:True if a>0 else False , num_))\n",
    "print(\"positve number from a list is:\",positive_num)"
   ]
  },
  {
   "cell_type": "code",
   "execution_count": 27,
   "metadata": {},
   "outputs": [
    {
     "name": "stdout",
     "output_type": "stream",
     "text": [
      "multiples of 3 list is: [3, 6, 15, 60]\n",
      "multiples of 5 from list is: [25, 15, 80, 60]\n",
      "multiples of 3 and 5 from list is: [15, 60]\n"
     ]
    }
   ],
   "source": [
    "# filter out the multiples of 3 and 5 from a list\n",
    "num_=[ 3,6,2,25,15,80,60,23]\n",
    "multi_3 = list(filter(lambda a:True if a%3==0 else False , num_))\n",
    "multi_5 = list(filter(lambda a:True if a%5==0 else False , num_))\n",
    "multi_3and_5 = list(filter(lambda a:True if a%3==0 and a%5==0 else False , num_))\n",
    "print(\"multiples of 3 list is:\",multi_3)\n",
    "print(\"multiples of 5 from list is:\",multi_5)\n",
    "print(\"multiples of 3 and 5 from list is:\",multi_3and_5)\n"
   ]
  },
  {
   "cell_type": "code",
   "execution_count": 31,
   "metadata": {},
   "outputs": [
    {
     "name": "stdout",
     "output_type": "stream",
     "text": [
      "Maximum number is: 90\n"
     ]
    }
   ],
   "source": [
    "# find the max string using reuduce function\n",
    "num_ = [ 76,2,5,12,78,65,90]\n",
    "from functools import reduce \n",
    "max_=reduce(lambda a,b: a if a>b else b ,num_)\n",
    "print(\"Maximum number is:\",max_)"
   ]
  },
  {
   "cell_type": "code",
   "execution_count": 76,
   "metadata": {},
   "outputs": [
    {
     "name": "stdout",
     "output_type": "stream",
     "text": [
      "Mean of given list is: 2.5\n",
      "Max of given list is: 4\n",
      "Max of given list is: 1\n"
     ]
    }
   ],
   "source": [
    "# find the mean , max and min of a given list using reduce function\n",
    "data = [1,2,3,4]\n",
    "sum_=reduce(lambda a,b:a+b ,data)\n",
    "n=len(data)\n",
    "mean_=sum_/n\n",
    "print(\"Mean of given list is:\",mean_)\n",
    "max_=reduce(lambda a,b: a if a>b else b ,data)\n",
    "print(\"Max of given list is:\",max_)\n",
    "min_=reduce(lambda a,b: a if a<b else b ,data)\n",
    "print(\"Max of given list is:\",min_)"
   ]
  }
 ],
 "metadata": {
  "kernelspec": {
   "display_name": "Python 3 (ipykernel)",
   "language": "python",
   "name": "python3"
  },
  "language_info": {
   "codemirror_mode": {
    "name": "ipython",
    "version": 3
   },
   "file_extension": ".py",
   "mimetype": "text/x-python",
   "name": "python",
   "nbconvert_exporter": "python",
   "pygments_lexer": "ipython3",
   "version": "3.11.7"
  }
 },
 "nbformat": 4,
 "nbformat_minor": 4
}
