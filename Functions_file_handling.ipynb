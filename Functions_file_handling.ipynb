{
 "cells": [
  {
   "cell_type": "markdown",
   "metadata": {},
   "source": [
    "# File handling\n",
    "\n",
    "<b>Q1. Write a Python program to read a file line by line and store it into a list</b>\n",
    "\n",
    "<b>Q2. Write a Python program to extract characters from various text files and puts them into a list.</b>\n",
    "\n",
    "words1.txt <br>\n",
    "Welcome to the Python Wiki, a user-editable compendium of knowledge\n",
    "based around the Python programming language. Some pages are protected\n",
    "against casual editing - see WikiEditingGuidelines for more information\n",
    "about editing content. <br>\n",
    "words2.txt <br>\n",
    "Python is a great object-oriented, interpreted, and interactive\n",
    "programming language. It is often compared (favorably of course :-) )\n",
    "to Lisp, Tcl, Perl, Ruby, C#, Visual Basic, Visual Fox Pro, Scheme or Java...\n",
    "and it's much more fun. <br>\n",
    "\n",
    "# Functions\n",
    "\n",
    "<b>1. Write a Python function to find the Max of three numbers.  </b>\n",
    "\n",
    "<b>2. Write a Python function to sum all the numbers in a list </b>\n",
    "\n",
    "<b>3. Write a Python function to check whether a string is a pangram or not. </b> <br>\n",
    "Note : Pangrams are words or sentences containing every letter of the alphabet at least once.<br>\n",
    "For example : \"The quick brown fox jumps over the lazy dog\"\n",
    "\n",
    "<b>4. Write a Python program to sort a list of tuples using Lambda.</b> <br>\n",
    "Original list of tuples:<br>\n",
    "[('English', 88), ('Science', 90), ('Maths', 97), ('Social sciences', 82)]<br>\n",
    "Sorting the List of Tuples:<br>\n",
    "[('Social sciences', 82), ('English', 88), ('Science', 90), ('Maths', 97)]<br>\n",
    "\n",
    "<b>5. Write a Python program to get the Fibonacci series between 0 to 50. </b>\n",
    "\n",
    "<b>6. Write a Python program to convert temperatures to and from celsius, fahrenheit </b>\n",
    "\n",
    "<b>7. Write a Python program to count the number of even and odd numbers from a series of numbers. </b>\n",
    "\n",
    "<b>8. Write a Python program which iterates the integers from 1 to 50. For multiples of three print \"Fizz\" instead of the number and for the multiples of five print \"Buzz\". For numbers which are multiples of both three and five print \"FizzBuzz\". </b>"
   ]
  },
  {
   "cell_type": "code",
   "execution_count": 13,
   "metadata": {},
   "outputs": [
    {
     "name": "stdout",
     "output_type": "stream",
     "text": [
      "Sports List: ['tennis', 'cricket', 'baseball', 'bascketball', 'badminton']\n"
     ]
    }
   ],
   "source": [
    "# Q1. Write a Python program to read a file line by line and store it into a list  \n",
    "\n",
    "sport_list =[]\n",
    "with open(\"filehandling/sports.txt\",\"r\") as f:\n",
    "    for line in f:\n",
    "        sport_list.append(line.rstrip(\"\\n\"))\n",
    "\n",
    "print(\"Sports List:\",sport_list)\n",
    "\n",
    "        "
   ]
  },
  {
   "cell_type": "code",
   "execution_count": 20,
   "metadata": {},
   "outputs": [
    {
     "name": "stdout",
     "output_type": "stream",
     "text": [
      "['Welcome to the Python Wiki, \\na user-editable compendium of knowledge based around the Python programming language.\\nSome pages are protected against casual editing - see WikiEditingGuidelines for more information about editing content.', \"Python is a great object-oriented, interpreted, and interactive programming language. It is often compared (favorably of course :-) ) to Lisp, Tcl, Perl, Ruby, C#, Visual Basic, Visual Fox Pro, Scheme or Java... and it's much more fun.\"]\n"
     ]
    }
   ],
   "source": [
    "# Q2. Write a Python program to extract characters from various text files and puts them into a list.\n",
    "\n",
    "import glob\n",
    "char_list = []\n",
    "files_list = glob.glob(\"filehandling/abcd/*.txt\")\n",
    "for file_elem in files_list:\n",
    "   with open(file_elem, \"r\") as f:\n",
    "       char_list.append(f.read())\n",
    "print(char_list)\n"
   ]
  },
  {
   "cell_type": "code",
   "execution_count": 22,
   "metadata": {},
   "outputs": [
    {
     "name": "stdin",
     "output_type": "stream",
     "text": [
      "Enter num1 value: 7\n",
      "Enter num2 value: 2\n",
      "Enter num3 value: 9\n"
     ]
    },
    {
     "name": "stdout",
     "output_type": "stream",
     "text": [
      "Max of three numbers is : 9\n"
     ]
    }
   ],
   "source": [
    "# 1. Write a Python function to find the Max of three numbers.\n",
    "\n",
    "def max_of_three(num1,num2,num3):\n",
    "    if num1>num2 and num1>num3:\n",
    "        return num1\n",
    "    elif num2>num3:\n",
    "        return num2\n",
    "    else:\n",
    "        return num3\n",
    "        \n",
    "a=int(input(\"Enter num1 value:\"))\n",
    "b=int(input(\"Enter num2 value:\"))\n",
    "c=int(input(\"Enter num3 value:\"))\n",
    "\n",
    "print(\"Max of three numbers is :\", max_of_three(a,b,c))"
   ]
  },
  {
   "cell_type": "code",
   "execution_count": 33,
   "metadata": {},
   "outputs": [
    {
     "name": "stdin",
     "output_type": "stream",
     "text": [
      "Enter a list: [1,2,3,4]\n"
     ]
    },
    {
     "name": "stdout",
     "output_type": "stream",
     "text": [
      "sum of all ele in list : 10\n"
     ]
    }
   ],
   "source": [
    "# 2. Write a Python function to sum all the numbers in a list\n",
    "\n",
    "\n",
    "def sum_lst(lst):\n",
    "    sum=0\n",
    "    for i in range(len(lst)+1):\n",
    "        sum+=i\n",
    "        i+=1\n",
    "    return sum\n",
    "\n",
    "a=eval(input(\"Enter a list:\"))\n",
    "print(\"sum of all ele in list :\",sum_lst(a))\n"
   ]
  },
  {
   "cell_type": "code",
   "execution_count": 35,
   "metadata": {},
   "outputs": [
    {
     "name": "stdout",
     "output_type": "stream",
     "text": [
      "True\n"
     ]
    }
   ],
   "source": [
    "# 3. Write a Python function to check whether a string is a pangram or not.\n",
    "# Note : Pangrams are words or sentences containing every letter of the alphabet at least once.\n",
    "# For example : \"The quick brown fox jumps over the lazy dog\"\n",
    "\n",
    "import string\n",
    " \n",
    "def ispangram(str):\n",
    "    alphabet = \"abcdefghijklmnopqrstuvwxyz\"\n",
    "    for char in alphabet:\n",
    "        if char not in str.lower():\n",
    "            return False\n",
    " \n",
    "    return True\n",
    "string=\"The quick brown fox jumps over the lazy dog\"\n",
    "print(ispangram(string))"
   ]
  },
  {
   "cell_type": "code",
   "execution_count": 55,
   "metadata": {},
   "outputs": [
    {
     "data": {
      "text/plain": [
       "[('Social sciences', 82), ('English', 88), ('Science', 90), ('Maths', 97)]"
      ]
     },
     "execution_count": 55,
     "metadata": {},
     "output_type": "execute_result"
    }
   ],
   "source": [
    "# 4. Write a Python program to sort a list of tuples using Lambda.\n",
    "# Original list of tuples:\n",
    "# [('English', 88), ('Science', 90), ('Maths', 97), ('Social sciences', 82)]\n",
    "# Sorting the List of Tuples:\n",
    "# [('Social sciences', 82), ('English', 88), ('Science', 90), ('Maths', 97)]\n",
    "\n",
    "pairs=[('English', 88), ('Science', 90), ('Maths', 97), ('Social sciences', 82)]\n",
    "\n",
    "pairs.sort(key=lambda pair: pair[1])\n",
    "pairs"
   ]
  },
  {
   "cell_type": "code",
   "execution_count": 75,
   "metadata": {},
   "outputs": [
    {
     "name": "stdout",
     "output_type": "stream",
     "text": [
      "1\n",
      "1\n",
      "2\n",
      "3\n",
      "5\n",
      "8\n",
      "13\n",
      "21\n",
      "34\n"
     ]
    }
   ],
   "source": [
    "# 5. Write a Python program to get the Fibonacci series between 0 to 50.\n",
    "x, y = 0, 1\n",
    "# Print the Fibonacci series until the value exceeds 50\n",
    "while y < 50:\n",
    "    print(y)\n",
    "    x, y = y, x + y"
   ]
  },
  {
   "cell_type": "code",
   "execution_count": 80,
   "metadata": {},
   "outputs": [
    {
     "name": "stdin",
     "output_type": "stream",
     "text": [
      "Enter value of temperature in oC [23,26,33,25,90]\n"
     ]
    },
    {
     "name": "stdout",
     "output_type": "stream",
     "text": [
      "Temperature in fahrenheit is: [73.4, 78.80000000000001, 91.4, 77.0, 194.0]\n"
     ]
    }
   ],
   "source": [
    "# 6. Write a Python program to convert temperatures to and from celsius, fahrenheit\n",
    "\n",
    "def fah(T):\n",
    "    return (9/5)*T+32\n",
    "\n",
    "temp_=eval(input(\"Enter value of temperature in oC\"))\n",
    "print(\"Temperature in fahrenheit is:\", list(map(fah,temp_)))"
   ]
  },
  {
   "cell_type": "code",
   "execution_count": 86,
   "metadata": {},
   "outputs": [
    {
     "name": "stdout",
     "output_type": "stream",
     "text": [
      "Number of even numbers: 4\n",
      "Number of odd numbers: 5\n"
     ]
    }
   ],
   "source": [
    "# 7. Write a Python program to count the number of even and odd numbers from a series of numbers\n",
    "\n",
    "numbers = (1, 2, 3, 4, 5, 6, 7, 8, 9)\n",
    "count_odd = 0\n",
    "count_even = 0\n",
    "for x in numbers:\n",
    "    if not x % 2:\n",
    "        count_even += 1\n",
    "    else:\n",
    "        count_odd += 1\n",
    "        \n",
    "print(\"Number of even numbers:\", count_even)\n",
    "print(\"Number of odd numbers:\", count_odd)"
   ]
  },
  {
   "cell_type": "code",
   "execution_count": null,
   "metadata": {},
   "outputs": [],
   "source": [
    "def count_even_odd(numbers):\n",
    "    even_count = len(list(filter(lambda x: x % 2 == 0, numbers)))\n",
    "    odd_count = len(list(filter(lambda x: x % 2 == 1, numbers)))\n",
    "    return even_count, odd_count\n",
    "\n",
    "numbers = [1, 2, 3, 4, 5, 6, 7, 8, 9, 10]\n",
    "even, odd = count_even_odd(numbers)\n",
    "print(f\"Number of even numbers: {even}\")\n",
    "print(f\"Number of odd numbers: {odd}\")"
   ]
  },
  {
   "cell_type": "code",
   "execution_count": 97,
   "metadata": {},
   "outputs": [
    {
     "name": "stdout",
     "output_type": "stream",
     "text": [
      "Fizz\n",
      "Bizz\n",
      "Fizz\n",
      "Fizz\n",
      "Bizz\n",
      "Fizz\n",
      "FizzBizz\n",
      "Fizz\n",
      "Bizz\n",
      "Fizz\n",
      "Fizz\n",
      "Bizz\n",
      "Fizz\n",
      "FizzBizz\n",
      "Fizz\n",
      "Bizz\n",
      "Fizz\n",
      "Fizz\n",
      "Bizz\n",
      "Fizz\n",
      "FizzBizz\n",
      "Fizz\n"
     ]
    }
   ],
   "source": [
    "# 8. Write a Python program which iterates the integers from 1 to 50. For multiples of three print \"Fizz\" instead of the number and\n",
    "# for the multiples of five print \"Buzz\". For numbers which are multiples of both three and five print \"FizzBuzz\".\n",
    "\n",
    "def find_(data):\n",
    "    for num in data:\n",
    "        if num%3==0 and num%5==0:\n",
    "            print(\"FizzBizz\")\n",
    "        elif num%3 ==0:\n",
    "            print(\"Fizz\")\n",
    "        elif num%5==0:\n",
    "            print(\"Bizz\")\n",
    "\n",
    "data=range(1,50)\n",
    "\n",
    "find_(data)"
   ]
  },
  {
   "cell_type": "code",
   "execution_count": null,
   "metadata": {},
   "outputs": [],
   "source": []
  }
 ],
 "metadata": {
  "kernelspec": {
   "display_name": "Python 3 (ipykernel)",
   "language": "python",
   "name": "python3"
  },
  "language_info": {
   "codemirror_mode": {
    "name": "ipython",
    "version": 3
   },
   "file_extension": ".py",
   "mimetype": "text/x-python",
   "name": "python",
   "nbconvert_exporter": "python",
   "pygments_lexer": "ipython3",
   "version": "3.11.7"
  }
 },
 "nbformat": 4,
 "nbformat_minor": 4
}
