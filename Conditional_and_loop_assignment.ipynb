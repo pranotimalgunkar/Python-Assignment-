{
 "cells": [
  {
   "cell_type": "markdown",
   "metadata": {
    "id": "wNRNTbrsc53d"
   },
   "source": [
    "# If - elif - else statement"
   ]
  },
  {
   "cell_type": "code",
   "execution_count": 5,
   "metadata": {
    "id": "MiPfTnBycxNa"
   },
   "outputs": [
    {
     "name": "stdin",
     "output_type": "stream",
     "text": [
      "Enter a number from 0 to 9 : 5\n"
     ]
    },
    {
     "name": "stdout",
     "output_type": "stream",
     "text": [
      "Five\n"
     ]
    }
   ],
   "source": [
    "#W. A P. which takes one number from 0 to 9 from the user and prints it in the word. And if the word is not from 0 to 9 then\n",
    "#it should print that number is outside of the range and program should exit.\n",
    "# For exapmple:- \n",
    "# input = 1\n",
    "# output = one\n",
    "a = eval(input(\"Enter a number from 0 to 9 :\"))\n",
    "\n",
    "if (a<10) and (a>-1):\n",
    "    if a==0:\n",
    "        print(\"zero\")\n",
    "    elif a==1:\n",
    "        print(\"One\")\n",
    "    elif a==2:\n",
    "        print(\"Two\")\n",
    "    elif a==3:\n",
    "        print(\"Three\")\n",
    "    elif a==4:\n",
    "        print(\"Four\")\n",
    "    elif a==5:\n",
    "        print(\"Five\")\n",
    "    elif a==6:\n",
    "        print(\"Six\")\n",
    "    elif a==7:\n",
    "        print(\"Seven\")\n",
    "    elif a==8:\n",
    "        print(\"Eight\")\n",
    "    elif a==9:\n",
    "        print(\"Nine\")\n",
    "else:\n",
    "    print(\"Number is not in range\")\n",
    "        \n",
    "    "
   ]
  },
  {
   "cell_type": "code",
   "execution_count": 5,
   "metadata": {
    "id": "vEMNOv9zdA39"
   },
   "outputs": [
    {
     "name": "stdin",
     "output_type": "stream",
     "text": [
      "Enter a num1: 4\n",
      "Enter a num2: 2\n"
     ]
    },
    {
     "name": "stdout",
     "output_type": "stream",
     "text": [
      "\n",
      "Please select any one operation from below:-)\n",
      "* To add enter 1\n",
      "* to subtract enter 2\n",
      "* To multiply enter 3\n",
      "* To divide enter 4\n",
      "* To divide and find quotient enter 5\n",
      "* To divide and find remainder enter 6\n",
      "* To divide and find num1 to the power of num2 enter 7\n",
      "* To Come out of the program enter 8\n",
      "\n"
     ]
    },
    {
     "name": "stdin",
     "output_type": "stream",
     "text": [
      "Enter a operation number 4\n"
     ]
    },
    {
     "name": "stdout",
     "output_type": "stream",
     "text": [
      "To divide enter 4: 2.0\n"
     ]
    }
   ],
   "source": [
    "#W. A P. to implement calculator but the operation to be done and two numbers will be taken as input from user:-\n",
    "#Operation console should show below:-\n",
    "#     Please select any one operation from below:-\n",
    "#         * To add enter 1\n",
    "#         * to subtract enter 2\n",
    "#         * To multiply enter 3\n",
    "#         * To divide enter 4\n",
    "#         * To divide and find quotient enter 5\n",
    "#         * To divide and find remainder enter 6\n",
    "#         * To divide and find num1 to the power of num2 enter 7\n",
    "#         * To Come out of the program enter 8\n",
    "\n",
    "\n",
    "num1 = int(input(\"Enter a num1:\"))\n",
    "num2 = int(input(\"Enter a num2:\"))\n",
    "print('''\n",
    "Please select any one operation from below:-)\n",
    "* To add enter 1\n",
    "* to subtract enter 2\n",
    "* To multiply enter 3\n",
    "* To divide enter 4\n",
    "* To divide and find quotient enter 5\n",
    "* To divide and find remainder enter 6\n",
    "* To divide and find num1 to the power of num2 enter 7\n",
    "* To Come out of the program enter 8\n",
    "''')\n",
    "\n",
    "operation = int(input(\"Enter a operation number\"))\n",
    "if (operation<9) and (operation>0):\n",
    "    if operation==1:\n",
    "        sum = num1+num2\n",
    "        print(\" To add enter 1:\",sum)\n",
    "    elif operation ==2:\n",
    "        sub = num1-num2\n",
    "        print(\"to subtract enter 2:\",sub)\n",
    "    elif operation==3:\n",
    "        multiply = num1*num2\n",
    "        print(\"To multiply enter 3:\",multiply)\n",
    "    elif operation == 4:\n",
    "        div = num1/num2\n",
    "        print(\"To divide enter 4:\",div)\n",
    "    elif operation == 5:\n",
    "        quotient = num1//num2\n",
    "        print(\"find quotient enter 5:\",quotient)\n",
    "    elif operation == 6:\n",
    "        rem= num1%num2\n",
    "        print(\"find remainder enter 6:\",rem)\n",
    "    elif operation==7:\n",
    "        power = num1**num2\n",
    "        print(\"find num1 to the power of num2 enter 7:\",power)\n",
    "    elif operation==8:\n",
    "        print(\"You Come out of the Calculator\")\n",
    "else:\n",
    "    print(\"Incorrect Number\")\n",
    "    \n",
    "    \n",
    "    \n"
   ]
  },
  {
   "cell_type": "code",
   "execution_count": 6,
   "metadata": {
    "id": "1e2gwYLqdC1s"
   },
   "outputs": [
    {
     "name": "stdin",
     "output_type": "stream",
     "text": [
      "Enter a Year: 2004\n"
     ]
    },
    {
     "name": "stdout",
     "output_type": "stream",
     "text": [
      "Year is Leap year\n"
     ]
    }
   ],
   "source": [
    "#W A P to check whether a year entered by user is an leap year or not?\n",
    "#Check with below input:-\n",
    "    #leap year:- 2012, 1968, 2004, 1200, 1600,2400\n",
    "    #Non-lear year:- 1971, 2006, 1700,1800,1900\n",
    "a = int(input(\"Enter a Year:\"))\n",
    "if a%4==0 or a%400==0 or a%100==0:\n",
    "    print(\"Year is Leap year\")\n",
    "else:\n",
    "    print(\"Year is not Leap year\")\n",
    "  "
   ]
  },
  {
   "cell_type": "code",
   "execution_count": 7,
   "metadata": {
    "id": "_tpXv1EtdEre"
   },
   "outputs": [
    {
     "name": "stdin",
     "output_type": "stream",
     "text": [
      "Enter a number : 4\n"
     ]
    },
    {
     "name": "stdout",
     "output_type": "stream",
     "text": [
      "Number is even\n"
     ]
    }
   ],
   "source": [
    "#W A P which takes one number from the user and checks whether it is an even or odd number?, If it even then prints number is \n",
    "#even number else prints that number is odd number.\n",
    "\n",
    "a = int(input(\"Enter a number :\"))\n",
    "if (a%2==0):\n",
    "    print(\"Number is even\")\n",
    "else:\n",
    "    print(\"Number is odd\")\n"
   ]
  },
  {
   "cell_type": "code",
   "execution_count": 8,
   "metadata": {
    "id": "Q1HumymCdG6i"
   },
   "outputs": [
    {
     "name": "stdin",
     "output_type": "stream",
     "text": [
      "Enter a num1 value: 4\n",
      "Enter a num2 value: 4\n"
     ]
    },
    {
     "name": "stdout",
     "output_type": "stream",
     "text": [
      "  num1 and num2 are equal\n"
     ]
    }
   ],
   "source": [
    "#W A P which takes two numbers from the user and prints below output:-\n",
    "#     1. num1 is greater than num2 if num1 is greater than num2\n",
    "#     2. num1 is smaller than num2 if  num1 is smaller than num2\n",
    "#     3. num1 is equal to num2 if num1 and num2 are equal\n",
    "\n",
    "#Note:- 1. Do this problem using if - else \n",
    "#       2. Do this using ternary operator\n",
    "\n",
    "# 1. Do this problem using if - else \n",
    "\n",
    "num1 = int(input(\"Enter a num1 value:\"))\n",
    "num2 = int(input(\"Enter a num2 value:\"))\n",
    "if num1>num2:\n",
    "    print(\"num1 is greater than num2\")\n",
    "elif num1<num2:\n",
    "    print(\" num1 is smaller than num2\")\n",
    "else:\n",
    "     print(\"num1 and num2 are equal\")\n",
    "    "
   ]
  },
  {
   "cell_type": "code",
   "execution_count": 11,
   "metadata": {},
   "outputs": [
    {
     "name": "stdin",
     "output_type": "stream",
     "text": [
      "Enter a num1 value: 4\n",
      "Enter a num2 value: 1\n"
     ]
    },
    {
     "name": "stdout",
     "output_type": "stream",
     "text": [
      "num1 is greater than num2\n"
     ]
    }
   ],
   "source": [
    "#2. Do this using ternary operator  \n",
    "num1 = int(input(\"Enter a num1 value:\"))\n",
    "num2 = int(input(\"Enter a num2 value:\"))\n",
    "print(\"num1 is greater than num2\") if num1>num2 else print(\" num1 is smaller than num2\") if num1<num2 else print(\"num1 and num2 are equal\")"
   ]
  },
  {
   "cell_type": "code",
   "execution_count": 12,
   "metadata": {
    "id": "LR6TVB-DdOPf"
   },
   "outputs": [
    {
     "name": "stdin",
     "output_type": "stream",
     "text": [
      "Enter a num1 value: 1\n",
      "Enter a num2 value: 4\n",
      "Enter a num3 value: 7\n"
     ]
    },
    {
     "name": "stdout",
     "output_type": "stream",
     "text": [
      "num3 is greater than num1 and num2\n"
     ]
    }
   ],
   "source": [
    "#W A P which takes three numbers from the user and prints below output:-\n",
    "#     1. num1 is greater than num2 and num3 if num1 is greater than num2 and num3\n",
    "#     2. num2 is greater than num1 and num3 if num2 is greater than num1 and num3\n",
    "#     3. num3 is greater than num1 and num2 if num3 is greater than num1 and num2\n",
    "\n",
    "#Note:- 1. Do this problem using if - elif - else \n",
    "#       2. Do this using ternary operator\n",
    "\n",
    "# a = a if a>b else b\n",
    "\n",
    "# 1. Do this problem using if - elif - else \n",
    "num1 = int(input(\"Enter a num1 value:\"))\n",
    "num2 = int(input(\"Enter a num2 value:\"))\n",
    "num3 = int(input(\"Enter a num3 value:\"))\n",
    "if num1>num2 and num1>num3:\n",
    "    print(\"num1 is greater than num2 and num3\")\n",
    "elif num2>num3:\n",
    "    print(\"num2 is greater than num1 and num3\")\n",
    "else:\n",
    "    print(\"num3 is greater than num1 and num2\")"
   ]
  },
  {
   "cell_type": "code",
   "execution_count": 13,
   "metadata": {},
   "outputs": [
    {
     "name": "stdin",
     "output_type": "stream",
     "text": [
      "Enter a num1 value: 4\n",
      "Enter a num2 value: 5\n",
      "Enter a num3 value: 2\n"
     ]
    },
    {
     "name": "stdout",
     "output_type": "stream",
     "text": [
      "num2 is greater than num1 and num3\n"
     ]
    }
   ],
   "source": [
    "num1 = int(input(\"Enter a num1 value:\"))\n",
    "num2 = int(input(\"Enter a num2 value:\"))\n",
    "num3 = int(input(\"Enter a num3 value:\"))\n",
    "print(\"num1 is greater than num2 and num3\") if (num1>num2 and num1>num3) else print(\"num2 is greater than num1 and num3\") if num2>num3 else print(\"num3 is greater than num1 and num2\")"
   ]
  },
  {
   "cell_type": "markdown",
   "metadata": {
    "id": "IoOLQMUGdSox"
   },
   "source": [
    "# Loops - for loop, while loop"
   ]
  },
  {
   "cell_type": "code",
   "execution_count": 16,
   "metadata": {
    "id": "9K23Uld8dQfA"
   },
   "outputs": [
    {
     "name": "stdout",
     "output_type": "stream",
     "text": [
      "length of the my_str is  55\n"
     ]
    }
   ],
   "source": [
    "#Write a Python program to find the length of the my_str using loop:-\n",
    "\n",
    "#Input:- 'Write a Python program to find the length of the my_str'\n",
    "#Output:- 55\n",
    "my_str=\"Write a Python program to find the length of the my_str\"\n",
    "length = 0\n",
    "for i in my_str:\n",
    "    length += 1\n",
    "\n",
    "print(\"length of the my_str is \",length)"
   ]
  },
  {
   "cell_type": "code",
   "execution_count": 24,
   "metadata": {
    "id": "bp6AcqTsdYxy"
   },
   "outputs": [
    {
     "name": "stdout",
     "output_type": "stream",
     "text": [
      "9\n"
     ]
    }
   ],
   "source": [
    "#Write a Python program to find the total number of times letter 'p' is appeared in the below string using loop:-\n",
    "    \n",
    "#Input:- 'peter piper picked a peck of pickled peppers.\\n'\n",
    "#Output:- 9\n",
    "my_str = 'peter piper picked a peck of pickled peppers.'\n",
    "count = 0\n",
    "for i in my_str:\n",
    "    if i == 'p':\n",
    "        my_str.count(i)\n",
    "        count +=1\n",
    "\n",
    "print(count)\n",
    "\n",
    "    "
   ]
  },
  {
   "cell_type": "code",
   "execution_count": 13,
   "metadata": {
    "id": "xvxSBhTJdav1"
   },
   "outputs": [
    {
     "name": "stdout",
     "output_type": "stream",
     "text": [
      "0\n",
      "6\n",
      "8\n",
      "12\n",
      "21\n",
      "29\n",
      "37\n",
      "39\n",
      "40\n"
     ]
    }
   ],
   "source": [
    "#Write a Python Program, to print all the indexes of all occurences of letter 'p' appeared in the string using loop:-\n",
    "    \n",
    "#Input:- 'peter piper picked a peck of pickled peppers.'\n",
    "#Output:- \n",
    "# 0\n",
    "# 6\n",
    "# 8\n",
    "# 12\n",
    "# 21\n",
    "# 29\n",
    "# 37\n",
    "# 39\n",
    "# 40\n",
    "my_str ='peter piper picked a peck of pickled peppers.'\n",
    "j = 0\n",
    "for i in my_str:\n",
    "    if my_str[j]=='p':\n",
    "        print(j)\n",
    "    j+=1\n"
   ]
  },
  {
   "cell_type": "code",
   "execution_count": 22,
   "metadata": {
    "id": "79L_feMadbmw"
   },
   "outputs": [
    {
     "name": "stdout",
     "output_type": "stream",
     "text": [
      "Input is: peter piper picked a peck of pickled peppers.\n",
      "Output is: ['peter', 'piper', 'picked', 'a', 'peck', 'of', 'pickled']\n"
     ]
    }
   ],
   "source": [
    "#Write a python program to find below output using loop:-\n",
    "\n",
    "#Input:- 'peter piper picked a peck of pickled peppers.'\n",
    "#Output:- ['peter', 'piper', 'picked', 'a', 'peck', 'of', 'pickled', 'peppers']\n",
    "\n",
    "# 1. By using While loop\n",
    "my_str ='peter piper picked a peck of pickled peppers.'\n",
    "print(\"Input is:\",my_str)\n",
    "word = \"\"\n",
    "lst = []\n",
    "\n",
    "for i in my_str:\n",
    "    if i != ' ':\n",
    "        word += i\n",
    "    else:\n",
    "        lst.append(word)\n",
    "        word = \"\"\n",
    "\n",
    "print(\"Output is:\",lst)"
   ]
  },
  {
   "cell_type": "code",
   "execution_count": 30,
   "metadata": {},
   "outputs": [
    {
     "name": "stdout",
     "output_type": "stream",
     "text": [
      "['peter', 'piper', 'picked', 'a', 'peck', 'of', 'pickled', 'peppers.']\n"
     ]
    }
   ],
   "source": [
    "my_str ='peter piper picked a peck of pickled peppers.'\n",
    "a = my_str.split()\n",
    "a\n",
    "lst=[]\n",
    "for i in a:\n",
    "    lst.append(i)\n",
    "\n",
    "print(lst)\n",
    "    "
   ]
  },
  {
   "cell_type": "code",
   "execution_count": 55,
   "metadata": {
    "id": "vzs5AJ53deVS"
   },
   "outputs": [
    {
     "name": "stdout",
     "output_type": "stream",
     "text": [
      "peppers. pickled of peck a picked piper peter \n"
     ]
    }
   ],
   "source": [
    "#Write a python program to find below output using loop:-\n",
    "\n",
    "#Input:- 'peter piper picked a peck of pickled peppers.'\n",
    "#Output:- 'peppers pickled of peck a picked piper peter'\n",
    "\n",
    "my_str ='peter piper picked a peck of pickled peppers.'\n",
    "a = my_str.split()[::-1]\n",
    "lst=''\n",
    "for i in a:\n",
    "    lst += i\n",
    "    lst +=' '\n",
    "\n",
    "print(lst)"
   ]
  },
  {
   "cell_type": "code",
   "execution_count": 56,
   "metadata": {
    "id": "i-HP7DrCdhwS"
   },
   "outputs": [
    {
     "name": "stdout",
     "output_type": "stream",
     "text": [
      ".sreppep delkcip fo kcep a dekcip repip retep \n"
     ]
    }
   ],
   "source": [
    "#Write a python program to find below output using loop:-\n",
    "\n",
    "#Input:- 'peter piper picked a peck of pickled peppers.'\n",
    "#Output:- '.sreppep delkcip fo kcep a dekcip repip retep'\n",
    "\n",
    "my_str ='peter piper picked a peck of pickled peppers.'\n",
    "a = my_str.split()[::-1]\n",
    "lst=''\n",
    "for i in a:\n",
    "    lst += i[::-1]\n",
    "    lst +=' '\n",
    "\n",
    "print(lst)"
   ]
  },
  {
   "cell_type": "code",
   "execution_count": 57,
   "metadata": {
    "id": "3rt6p0ytdkq0"
   },
   "outputs": [
    {
     "name": "stdout",
     "output_type": "stream",
     "text": [
      "retep repip dekcip a kcep fo delkcip .sreppep \n"
     ]
    }
   ],
   "source": [
    "#Write a python program to find below output using loop:-\n",
    "\n",
    "#Input:- 'peter piper picked a peck of pickled peppers.'\n",
    "#Output:- 'retep repip dekcip a kcep fo delkcip sreppep'\n",
    "my_str ='peter piper picked a peck of pickled peppers.'\n",
    "a = my_str.split()\n",
    "lst=''\n",
    "for i in a:\n",
    "    lst += (i[::-1])\n",
    "    lst += ' '\n",
    "\n",
    "print(lst)"
   ]
  },
  {
   "cell_type": "code",
   "execution_count": 59,
   "metadata": {
    "id": "HdlAWgT2dnKO"
   },
   "outputs": [
    {
     "name": "stdout",
     "output_type": "stream",
     "text": [
      "Peter Piper Picked A Peck Of Pickled Peppers. \n"
     ]
    }
   ],
   "source": [
    "#Write a python program to find below output using loop:-\n",
    "\n",
    "#Input:- 'peter piper picked a peck of pickled peppers.'\n",
    "#Output:- 'Peter Piper Picked A Peck Of Pickled Peppers'\n",
    "\n",
    "my_str ='peter piper picked a peck of pickled peppers.'\n",
    "a=my_str.split()\n",
    "lst=''\n",
    "for i in a:\n",
    "    lst +=i.capitalize()\n",
    "    lst += ' '\n",
    "\n",
    "print(lst)\n"
   ]
  },
  {
   "cell_type": "code",
   "execution_count": 65,
   "metadata": {
    "id": "OthUuacodrNl"
   },
   "outputs": [
    {
     "name": "stdout",
     "output_type": "stream",
     "text": [
      "Peter piper picked a peck of pickled peppers. \n"
     ]
    }
   ],
   "source": [
    "#Write a python program to find below output using loop:-\n",
    "\n",
    "#Input:- 'Peter Piper Picked A Peck Of Pickled Peppers.'\n",
    "#Output:- 'Peter piper picked a peck of pickled peppers'\n",
    "\n",
    "my_str ='Peter Piper Picked A Peck Of Pickled Peppers.'\n",
    "a=my_str.split()\n",
    "lst=''\n",
    "for i in a:\n",
    "    lst +=i.lower()\n",
    "    lst += ' '\n",
    "    \n",
    "\n",
    "print(lst.capitalize())"
   ]
  },
  {
   "cell_type": "code",
   "execution_count": 85,
   "metadata": {
    "colab": {
     "base_uri": "https://localhost:8080/",
     "height": 34
    },
    "id": "scmDJE-ldsI9",
    "outputId": "4b1d1979-9f4a-4bc6-c505-b88b1bbd4d5d"
   },
   "outputs": [
    {
     "name": "stdout",
     "output_type": "stream",
     "text": [
      "29\n"
     ]
    }
   ],
   "source": [
    "#Write a python program to implement index method using loop. If sub_str is found in my_str then it will print the index\n",
    "# of first occurrence of first character of matching string in my_str:-\n",
    "\n",
    "#Input:- my_str = 'Peter Piper Picked A Peck Of Pickled Peppers.', sub_str = 'Pickl'\n",
    "#Output:- 29\n",
    "\n",
    "my_str = 'Peter Piper Picked A Peck Of Pickled Peppers.'\n",
    "sub_str = 'Pickl'\n",
    "for i in range(0,len(my_str)):\n",
    "    if my_str[i:i+len(sub_str)] == sub_str:\n",
    "        print(i)"
   ]
  },
  {
   "cell_type": "code",
   "execution_count": 114,
   "metadata": {},
   "outputs": [
    {
     "data": {
      "text/plain": [
       "29"
      ]
     },
     "execution_count": 114,
     "metadata": {},
     "output_type": "execute_result"
    }
   ],
   "source": [
    "my_str = 'Peter Piper Picked A Peck Of Pickled Peppers.'\n",
    "sub_str = 'Pickl'\n",
    "for i in range(0,len(my_str)):\n",
    "    a=my_str.find(sub_str)\n",
    "a   "
   ]
  },
  {
   "cell_type": "code",
   "execution_count": 124,
   "metadata": {
    "id": "Kq_fwdb_dvYE"
   },
   "outputs": [
    {
     "name": "stdout",
     "output_type": "stream",
     "text": [
      "['Peter', 'Piper', 'Picked', 'A', 'Pack', 'Of', 'Pickled', 'Peppers.']\n",
      "Peter Piper Picked A Pack Of Pickled Peppers.\n"
     ]
    }
   ],
   "source": [
    "#Write a python program to implement replace method using loop. If sub_str is found in my_str then it will replace the first \n",
    "#occurrence of sub_str with new_str else it will will print sub_str not found:-\n",
    "\n",
    "#Input:- my_str = 'Peter Piper Picked A Peck Of Pickled Peppers.', sub_str = 'Peck', new_str = 'Pack'\n",
    "#Output:- 'Peter Piper Picked A Pack Of Pickled Peppers.'\n",
    "\n",
    "my_str = 'Peter Piper Picked A Peck Of Pickled Peppers.'\n",
    "sub_str = 'Peck'\n",
    "new_str = 'Pack'\n",
    "a=my_str.split()\n",
    "lst=[]\n",
    "for i in a:\n",
    "    if i !=sub_str:\n",
    "        lst.append(i)\n",
    "    else:\n",
    "        b=i.replace(sub_str,new_str)\n",
    "        lst.append(b)\n",
    "\n",
    "print(lst)\n",
    "print(' '.join(lst))"
   ]
  },
  {
   "cell_type": "code",
   "execution_count": 21,
   "metadata": {
    "id": "4Qes5D0cdyd1"
   },
   "outputs": [
    {
     "name": "stdout",
     "output_type": "stream",
     "text": [
      "*********************Peck********************\n"
     ]
    }
   ],
   "source": [
    "#Write a python program to find below output (implements rjust and ljust) using loop:-\n",
    "\n",
    "#Input:- 'Peter Piper Picked A Peck Of Pickled Peppers.', sub_str = 'Peck', \n",
    "#Output:- '*********************Peck********************'\n",
    "my_str = 'Peter Piper Picked A Peck Of Pickled Peppers.'\n",
    "sub_str = 'Peck'\n",
    "sub_str_index = 0\n",
    "new_str=''\n",
    "if my_str.find(sub_str) != -1:\n",
    "    sub_str_index = my_str.index(sub_str)\n",
    "    \n",
    "    i=0\n",
    "    for i in range(0,sub_str_index):         # ljust using loop\n",
    "        new_str +='*'\n",
    "        \n",
    "    new_str += sub_str\n",
    "    \n",
    "    for i in range(len(new_str), len(my_str)):   # rjust using loop\n",
    "        new_str += '*'\n",
    "    print(new_str)\n",
    "else:\n",
    "    print(\"string not found\")\n",
    "\n",
    "    \n"
   ]
  },
  {
   "cell_type": "code",
   "execution_count": 38,
   "metadata": {
    "id": "DsOrb07Od0lR"
   },
   "outputs": [
    {
     "data": {
      "text/plain": [
       "['This', ' is', ' Python class']"
      ]
     },
     "execution_count": 38,
     "metadata": {},
     "output_type": "execute_result"
    }
   ],
   "source": [
    "#Write a python program to find below output using loop:-\n",
    "\n",
    "#Input:- 'This is Python class', sep = ' is', \n",
    "#Output:- ['This', 'is', 'Python class']\n",
    "\n",
    "ip_str ='This is Python class'\n",
    "sep = ' is'\n",
    "op_str = ''\n",
    "l_str=''\n",
    "r_str=''\n",
    "new_lst=[]\n",
    "length=0\n",
    "for i in ip_str:\n",
    "    length+=1\n",
    "    op_str += i\n",
    "    if sep in op_str:\n",
    "        l_str = ip_str[:length-len(sep):]\n",
    "        r_str = ip_str[length::]\n",
    "        op_str =''\n",
    "new_lst.append(l_str)\n",
    "new_lst.append(sep)\n",
    "new_lst.append(r_str)        \n",
    "new_lst\n"
   ]
  },
  {
   "cell_type": "code",
   "execution_count": null,
   "metadata": {
    "id": "jRnBVufmd2Ay"
   },
   "outputs": [],
   "source": [
    "\n",
    "\n"
   ]
  }
 ],
 "metadata": {
  "colab": {
   "name": "Conditional_and_loop_assignment.ipynb",
   "provenance": []
  },
  "kernelspec": {
   "display_name": "Python 3 (ipykernel)",
   "language": "python",
   "name": "python3"
  },
  "language_info": {
   "codemirror_mode": {
    "name": "ipython",
    "version": 3
   },
   "file_extension": ".py",
   "mimetype": "text/x-python",
   "name": "python",
   "nbconvert_exporter": "python",
   "pygments_lexer": "ipython3",
   "version": "3.11.7"
  }
 },
 "nbformat": 4,
 "nbformat_minor": 4
}
