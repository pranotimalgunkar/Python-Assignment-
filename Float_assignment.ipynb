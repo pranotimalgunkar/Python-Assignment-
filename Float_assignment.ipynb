{
 "cells": [
  {
   "cell_type": "code",
   "execution_count": 1,
   "id": "39a39f2f-1463-4122-93d7-c7820e3a45f9",
   "metadata": {},
   "outputs": [
    {
     "name": "stdout",
     "output_type": "stream",
     "text": [
      "10.5 <class 'float'> 2120304237424\n"
     ]
    }
   ],
   "source": [
    "# Q.1 Declare a float value and store it in a variable.\n",
    "# Check the type and print the id of the same.\n",
    "# solution\n",
    "a = 10.5\n",
    "print(a, type(a), id(a))"
   ]
  },
  {
   "cell_type": "code",
   "execution_count": 2,
   "id": "16d35434-9022-4a91-8f54-dccb15085617",
   "metadata": {},
   "outputs": [
    {
     "name": "stdout",
     "output_type": "stream",
     "text": [
      "13.0\n",
      "4.0\n",
      "38.25\n",
      "1.8888888888888888\n",
      "4.0\n",
      "1.0\n",
      "15218.966662792947\n"
     ]
    }
   ],
   "source": [
    "# Q. Arithmetic Operations on float\n",
    "# Take two different float values.\n",
    "# Store them in two different variables.\n",
    "# Do below operations on them:-\n",
    "# Find sum of both numbers\n",
    "# Find difference between them\n",
    "# Find the product of both numbers.\n",
    "# Find value after dividing first num with second number\n",
    "# Find the remainder after dividing first number with second number\n",
    "# Find the quotient after dividing first number with second number\n",
    "# Find the result of the first num to the power of the second number.\n",
    "# solution -\n",
    "\n",
    "a = 8.5\n",
    "b = 4.5\n",
    "print(a+b)\n",
    "print(a-b)\n",
    "print(a*b)\n",
    "print(a/b)\n",
    "print(a%b)\n",
    "print(a//b)\n",
    "print(a**b)"
   ]
  },
  {
   "cell_type": "code",
   "execution_count": 4,
   "id": "65ec1f26-a966-4da0-ae91-ee4b6cba2642",
   "metadata": {},
   "outputs": [
    {
     "name": "stdout",
     "output_type": "stream",
     "text": [
      "True\n",
      "False\n",
      "True\n",
      "False\n"
     ]
    }
   ],
   "source": [
    "# Q. Comparison Operators on float\n",
    "# Take two different float values.\n",
    "# Store them in two different variables.\n",
    "# Do below operations on them:-\n",
    "# Compare these two numbers with below operator:-\n",
    "# Greater than, '>'\n",
    "# Smaller than, '<'\n",
    "# Greater than or equal to, '>='\n",
    "# Less than or equal to, '<='\n",
    "# Observe their output(return type should be boolean)\n",
    "# Solution -\n",
    "\n",
    "a = 10.5 \n",
    "b = 8.5\n",
    "print(a>b)\n",
    "print(a<b)\n",
    "print(a>=b)\n",
    "print(a<=b)"
   ]
  },
  {
   "cell_type": "code",
   "execution_count": 5,
   "id": "3da1d07b-20d2-4c2c-a430-89ac41d00a51",
   "metadata": {},
   "outputs": [
    {
     "name": "stdout",
     "output_type": "stream",
     "text": [
      "False\n",
      "True\n"
     ]
    }
   ],
   "source": [
    "# Q. Equality Operator\n",
    "# Take two different float values.\n",
    "# Store them in two different variables.\n",
    "# Equate them using equality operators (==, !=)\n",
    "# Observe the output(return type should be boolean)\n",
    "\n",
    "\n",
    "a = 10.5 \n",
    "b = 8.5\n",
    "print(a==b)\n",
    "print(a!=b)"
   ]
  },
  {
   "cell_type": "code",
   "execution_count": 6,
   "id": "aea3ca41-8e74-4637-af71-2674345eec23",
   "metadata": {},
   "outputs": [
    {
     "name": "stdout",
     "output_type": "stream",
     "text": [
      "20.3\n",
      "0.0\n",
      "0.0\n",
      "0.0\n",
      "10.2\n",
      "20.3\n",
      "20.3\n",
      "0.0\n",
      "False\n",
      "True\n"
     ]
    }
   ],
   "source": [
    "# Q. Logical operators\n",
    "# Observe the output of below code\n",
    "# Cross check the output manually\n",
    "# print(10.20 and 20.30) #both are true and second value taken\n",
    "# >Output is 20.3\n",
    "# print(0.0 and 20.30) #First is false so first value\n",
    "# taken->Output is 0.0\n",
    "\n",
    "# print(20.30 and 0.0) #Goes to till second and second value is\n",
    "# false so second is taken>Output is 0.0\n",
    "# print(0.0 and 0.0) #First is false so first value is\n",
    "# taken->Output is 0.0\n",
    "# print(10.20 or 20.30) #First is True so first value is\n",
    "# taken>Output is 10.2\n",
    "# print(0.0 or 20.30) #Goes to till second and second is true\n",
    "# second value is taken->Output is 20.3\n",
    "# print(20.30 or 0.0) #First is True so first value is\n",
    "# taken->Output is 20.3\n",
    "# print(0.0 or 0.0) #Goes to till second and second is also\n",
    "# false and second value is taken>Output is 0.0\n",
    "# print(not 10.20) #-Not of true is false->Output is False\n",
    "# print(not 0.0) #Not of false is True>Output is True\n",
    "\n",
    "\n",
    "print(10.20 and 20.30)\n",
    "print(0.0 and 20.30) \n",
    "print(20.30 and 0.0) \n",
    "print(0.0 and 0.0) \n",
    "print(10.20 or 20.30) \n",
    "print(0.0 or 20.30) \n",
    "print(20.30 or 0.0) \n",
    "print(0.0 or 0.0) \n",
    "print(not 10.20) \n",
    "print(not 0.0)"
   ]
  },
  {
   "cell_type": "code",
   "execution_count": 10,
   "id": "53631c91-b5f8-4dcc-afb8-1cc4aa76b8d3",
   "metadata": {},
   "outputs": [
    {
     "name": "stdout",
     "output_type": "stream",
     "text": [
      "False\n",
      "True\n",
      "2120317599472\n",
      "2120318375760\n"
     ]
    }
   ],
   "source": [
    "# Q. What is the output of expression inside print statement. Cross check\n",
    "# before running the program.\n",
    "# a = 10.20\n",
    "# b - 10.20\n",
    "# print(a is b) #True or False? True 10.20<256\n",
    "# print(a is not b) #True or False? False\n",
    "# Why the Id of float values are different when the same value is\n",
    "# assigned to two different variables\n",
    "# ex: a = 10.5 b=10.5. but id will be same if I assign the variable\n",
    "# having float i.e. a=c then both a and c's Id are same\n",
    "\n",
    "a = 10.20\n",
    "b = 10.20\n",
    "print(a is b) \n",
    "print(a is not b) \n",
    "\n",
    "# Why the Id of float values are different when the same value is\n",
    "# assigned to two different variables\n",
    "# Solution : \"Python can reuse memory positions. \n",
    "# The reason you see different id() values for small integers (from -5 through to 256) is because these values are interned;\n",
    "# Python only creates one 1 integer object and re-uses it over and over again\"\n",
    "a = 10.5\n",
    "b=10.5\n",
    "print(id(a))\n",
    "print(id(b))  #In case of float object reusability is not applicable.\n"
   ]
  },
  {
   "cell_type": "code",
   "execution_count": 11,
   "id": "5de83221-91bf-4afe-8b83-6b11cae4af5f",
   "metadata": {},
   "outputs": [
    {
     "name": "stdout",
     "output_type": "stream",
     "text": [
      "2120304234896\n",
      "2120304237424\n"
     ]
    }
   ],
   "source": [
    "# Q. Bitwise operation is not applicable between instances of float.\n",
    "# Why the Id of float values are different when the same value is\n",
    "# assigned to two different variables\n",
    "# ex: a = 10.5 b=10.5. but id will be same if I assign the variable\n",
    "# having float i.e. a=c then both a and c's Id are same\n",
    "# Object reusability concept is not applicable on float values.\n",
    "\n",
    "a = 10.5\n",
    "b = 10.5\n",
    "print(id(a))\n",
    "print(id(b))   #In case of float Bitwise operation is not applicable.\n"
   ]
  },
  {
   "cell_type": "code",
   "execution_count": 1,
   "id": "196f62d8-66ce-431b-a566-aafef0175295",
   "metadata": {},
   "outputs": [
    {
     "name": "stdout",
     "output_type": "stream",
     "text": [
      "True\n",
      "True\n",
      "True\n",
      "True\n",
      "True\n",
      "True\n"
     ]
    }
   ],
   "source": [
    "# Q. Membership operation\n",
    "# in, not in are two membership operators and it returns boolean value\n",
    "# print('2.7' in 'Python2.7.8') #True\n",
    "# print(10.20 in [10,10.20,10+20j,'Python']) #True\n",
    "# print(10.20 in (10,10.20,10+20j,'Python')) # True\n",
    "# print(20.30 in {1,20.30,30+40j}) # True\n",
    "# print(2.3 in {1:100, 2.3:200, 30+40j:300}) # True\n",
    "# print(10 in range(20)) # True\n",
    "\n",
    "print('2.7' in 'Python2.7.8')\n",
    "print(10.20 in [10,10.20,10+20j,'Python'])\n",
    "print(10.20 in (10,10.20,10+20j,'Python')) \n",
    "print(20.30 in {1,20.30,30+40j})\n",
    "print(2.3 in {1:100, 2.3:200, 30+40j:300}) \n",
    "print(10 in range(20))"
   ]
  },
  {
   "cell_type": "code",
   "execution_count": null,
   "id": "4664923b-6021-4320-8eae-58bb49589c03",
   "metadata": {},
   "outputs": [],
   "source": []
  }
 ],
 "metadata": {
  "kernelspec": {
   "display_name": "Python 3 (ipykernel)",
   "language": "python",
   "name": "python3"
  },
  "language_info": {
   "codemirror_mode": {
    "name": "ipython",
    "version": 3
   },
   "file_extension": ".py",
   "mimetype": "text/x-python",
   "name": "python",
   "nbconvert_exporter": "python",
   "pygments_lexer": "ipython3",
   "version": "3.11.7"
  }
 },
 "nbformat": 4,
 "nbformat_minor": 5
}
