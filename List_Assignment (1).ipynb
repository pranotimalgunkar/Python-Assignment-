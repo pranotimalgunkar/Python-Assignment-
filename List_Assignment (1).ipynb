{
 "cells": [
  {
   "cell_type": "code",
   "execution_count": 1,
   "metadata": {
    "id": "gtlAv2oq9yzd"
   },
   "outputs": [
    {
     "name": "stdout",
     "output_type": "stream",
     "text": [
      "Total sum of all elements : 100\n"
     ]
    }
   ],
   "source": [
    "#Write a Python program to find the sum of all elements in a list using loop.\n",
    "#Input:- [10,20,30,40]\n",
    "#Output:- 100\n",
    "data = [10,20,30,40]\n",
    "sum = 0\n",
    "for i in data:\n",
    "    sum += i\n",
    "print(\"Total sum of all elements :\",sum)\n",
    "\n",
    "\n"
   ]
  },
  {
   "cell_type": "code",
   "execution_count": 45,
   "metadata": {
    "id": "gTbA8psa93Y_"
   },
   "outputs": [
    {
     "name": "stdout",
     "output_type": "stream",
     "text": [
      "Total multiplication of all elements in a list: 240000\n"
     ]
    }
   ],
   "source": [
    "#Write a Python program to find the multiplication of all elements in a list using loop.\n",
    "#Input:- [10,20,30,40]\n",
    "#Output:- 240000\n",
    "data = [10,20,30,40]\n",
    "multiplication = 1\n",
    "for i in data:\n",
    "   multiplication *= i\n",
    "print(\"Total multiplication of all elements in a list:\",multiplication)\n",
    "\n"
   ]
  },
  {
   "cell_type": "code",
   "execution_count": 61,
   "metadata": {
    "id": "XBCrEtLN94Lj"
   },
   "outputs": [
    {
     "name": "stdout",
     "output_type": "stream",
     "text": [
      "largest number from a list is : 2321\n"
     ]
    }
   ],
   "source": [
    "#Write a Python program to find the largest number from a list using loop.\n",
    "#Input:- [10,100,2321, 1,200,2]\n",
    "#Output:- 2321\n",
    "list = [10,100,2321, 1,200,2]\n",
    "idx = 1\n",
    "for i in list:\n",
    "    if(idx<i):\n",
    "        idx=i\n",
    "print(\"largest number from a list is :\", idx)\n",
    "\n"
   ]
  },
  {
   "cell_type": "code",
   "execution_count": 60,
   "metadata": {
    "id": "l3paUtbH94Vw"
   },
   "outputs": [
    {
     "name": "stdout",
     "output_type": "stream",
     "text": [
      "largest number from a list is : 1\n"
     ]
    }
   ],
   "source": [
    "#Write a Python program to find the smallest number from a list using loop.\n",
    "#Input:- [10,100,2321, 1,200,2]\n",
    "#Output:- 1\n",
    "list = [10,100,2321, 1,200,2]\n",
    "idx = 1\n",
    "for i in list:\n",
    "    if(idx>i):\n",
    "        idx=i\n",
    "print(\"Smallest number from a list is :\", idx)\n",
    "\n"
   ]
  },
  {
   "cell_type": "code",
   "execution_count": 81,
   "metadata": {
    "id": "JTVgy5VD94cE"
   },
   "outputs": [
    {
     "name": "stdout",
     "output_type": "stream",
     "text": [
      "count the number of strings having length more than 2 and are palindrome in a list is: 2\n"
     ]
    }
   ],
   "source": [
    "#Write a Python program to count the number of strings having length more than 2 and are palindrome in a list using loop.\n",
    "#Input:- ['ab', 'abc', 'aba', 'xyz', '1991']\n",
    "#Output:- 2\n",
    "data = ['ab', 'abc', 'aba', 'xyz', '1991']\n",
    "result=0\n",
    "for i in data:\n",
    "    if (len(i)>2) & (i == i[::-1]):\n",
    "        result+=1     \n",
    "print(\"count the number of strings having length more than 2 and are palindrome in a list is:\", result)"
   ]
  },
  {
   "cell_type": "code",
   "execution_count": 68,
   "metadata": {
    "id": "xs-ZGJbJ94gr"
   },
   "outputs": [
    {
     "name": "stdout",
     "output_type": "stream",
     "text": [
      "[1, 2, 9, 10, 65, 80, 100, 298, 483, 9213, 49876]\n"
     ]
    }
   ],
   "source": [
    "#Write a Python program to sort a list in ascending order using loop.\n",
    "#Input:- [100,10,1,298,65,483,49876,2,80,9,9213]\n",
    "#Output:- [1,2,9,10,65,80,100,298,483,9213,49876]\n",
    "data=[100,10,1,298,65,483,49876,2,80,9,9213]\n",
    "data.sort()\n",
    "print(data)"
   ]
  },
  {
   "cell_type": "code",
   "execution_count": 90,
   "metadata": {
    "id": "VhKQJizZ94kg"
   },
   "outputs": [
    {
     "name": "stdout",
     "output_type": "stream",
     "text": [
      "After sorting using second element ( Ascending Order ) is: [(9, 1), (2, 3), (5, 4), (5, 5), (7, 6), (5, 9)]\n"
     ]
    }
   ],
   "source": [
    "#Write a Python program to get a sorted list in increasing order of last element in each tuple in a given list using loop.\n",
    "#Input:- [(5,4),(9,1),(2,3),(5,9),(7,6),(5,5)]\n",
    "#output:- [(9,1),(2,3),(5,4),(5,5),(7,6),(5,9)]\n",
    "data = [(5,4),(9,1),(2,3),(5,9),(7,6),(5,5)]\n",
    "for i in range (len(data)):\n",
    "    for j in range(i+1,len(data)):\n",
    "        if data[i][1] > data[j][1]:\n",
    "            temp = data[i]\n",
    "            data[i]=data[j]\n",
    "            data[j]=temp\n",
    "print(\"After sorting using second element ( Ascending Order ) is:\", data)\n",
    "            \n"
   ]
  },
  {
   "cell_type": "code",
   "execution_count": 95,
   "metadata": {
    "id": "YJrCLYp694n_"
   },
   "outputs": [
    {
     "name": "stdout",
     "output_type": "stream",
     "text": [
      "[10, 1, 11, 29, 876, 768, 92]\n"
     ]
    }
   ],
   "source": [
    "#Write a Python program to remove duplicate element from a list using loop.\n",
    "#Input:- [10,1,11,1,29,876,768,10,11,1,92,29,876]\n",
    "#Output:- [10,1,11,29,876,768,92]\n",
    "data = [10,1,11,1,29,876,768,10,11,1,92,29,876]\n",
    "new_list =[]\n",
    "for i in data:\n",
    "    if i not in new_list:\n",
    "        new_list.append(i)\n",
    "print(new_list)\n",
    "   \n",
    "\n",
    "    "
   ]
  },
  {
   "cell_type": "code",
   "execution_count": 121,
   "metadata": {
    "id": "koYe4YCu94rh"
   },
   "outputs": [
    {
     "name": "stdin",
     "output_type": "stream",
     "text": [
      "Enter value in list 89\n"
     ]
    },
    {
     "name": "stdout",
     "output_type": "stream",
     "text": [
      "Enter list is not empty\n"
     ]
    }
   ],
   "source": [
    "#Write a Python program to check a list is empty or not?\n",
    "#Input:- []\n",
    "#Output:- List is empty\n",
    "#Input:- [10,20,30]\n",
    "#Output:- List is not empty\n",
    "list = eval(input(\"Enter value in list\"))\n",
    "if((not list) == True):\n",
    "    print(\"Enter list is empty\")\n",
    "else:\n",
    "    print(\"Enter list is not empty\")\n",
    "    "
   ]
  },
  {
   "cell_type": "code",
   "execution_count": 129,
   "metadata": {
    "id": "mES1WANa94u5"
   },
   "outputs": [
    {
     "name": "stdout",
     "output_type": "stream",
     "text": [
      "copy list is: [10, 10.2, (10+20j), 'Python', [10, 20], (10, 20)]\n"
     ]
    }
   ],
   "source": [
    "#Write a Python program to copy a list using loop.\n",
    "#inp_lst = [10,10.20,10+20j, 'Python', [10,20], (10,20)]\n",
    "#out_lst = [10,10.20,10+20j, 'Python', [10,20], (10,20)]\n",
    "inp_list = [10,10.20,10+20j, 'Python', [10,20], (10,20)]\n",
    "op_list =[]\n",
    "for i in inp_list:\n",
    "    op_list.append(i)\n",
    "print(\"copy list is:\",op_list)"
   ]
  },
  {
   "cell_type": "code",
   "execution_count": 139,
   "metadata": {
    "id": "CpBh31WO94yi"
   },
   "outputs": [
    {
     "name": "stdout",
     "output_type": "stream",
     "text": [
      "['much', 'wood', 'would', 'woodchuck', 'chuck', 'could']\n"
     ]
    }
   ],
   "source": [
    "#Write a Python program to find the list of words that are longer than or equal to 4 from a given string.\n",
    "#Input:- 'How much wood would a woodchuck chuck if a woodchuck could chuck wood'\n",
    "#Output:- ['much', 'wood', 'would', 'woodchuck', 'chuck', 'could']\n",
    "#Note:- Duplicate should be avoided.\n",
    "a ='How much wood would a woodchuck chuck if a woodchuck could chuck wood'\n",
    "data = a.split()\n",
    "new_list = []\n",
    "for i in data:\n",
    "    if((len(i)>=4) & (i not in new_list)):\n",
    "        new_list.append(i)\n",
    "print(new_list)"
   ]
  },
  {
   "cell_type": "code",
   "execution_count": 140,
   "metadata": {
    "id": "YVfj0fgZ9416"
   },
   "outputs": [
    {
     "name": "stdin",
     "output_type": "stream",
     "text": [
      "Enter the first list [10,20,'Python', 10.20, 10+20j, [10,20,30], (10,20,30)]\n",
      "Enter the second list [(10,20,30),1,20+3j,100.2, 10+20j, [10,20,30],'Python']\n"
     ]
    },
    {
     "name": "stdout",
     "output_type": "stream",
     "text": [
      "List 1 is: [10, 20, 'Python', 10.2, (10+20j), [10, 20, 30], (10, 20, 30)]\n",
      "List 2 is: [(10, 20, 30), 1, (20+3j), 100.2, (10+20j), [10, 20, 30], 'Python']\n",
      "Are there 3 or more common element between the two lists? : True\n"
     ]
    }
   ],
   "source": [
    "#Write a Python program which takes two list as input and returns True if they have at least 3 common elements.\n",
    "#inp_lst1 = [10,20,'Python', 10.20, 10+20j, [10,20,30], (10,20,30)]\n",
    "#inp_lst2 = [(10,20,30),1,20+3j,100.2, 10+20j, [10,20,30],'Python']\n",
    "#Output:- True\n",
    "ip_lst1 = eval(input(\"Enter the first list\"))\n",
    "ip_lst2 = eval(input(\"Enter the second list\"))\n",
    "count = 0\n",
    "print(\"List 1 is:\",ip_lst1)\n",
    "print(\"List 2 is:\",ip_lst2)\n",
    "\n",
    "for i in ip_lst1:\n",
    "    for j in ip_lst2:\n",
    "        if i == j:\n",
    "            count += 1\n",
    "\n",
    "print(\"Are there 3 or more common element between the two lists? :\", count>3)\n"
   ]
  },
  {
   "cell_type": "code",
   "execution_count": 27,
   "metadata": {
    "id": "7vwc3pjR945O"
   },
   "outputs": [
    {
     "name": "stdout",
     "output_type": "stream",
     "text": [
      "[[0, 0, 0, 0], [0, 1, 2, 3], [0, 2, 4, 6], [0, 3, 6, 9]]\n"
     ]
    }
   ],
   "source": [
    "#Write a Python program to create a 4X4 2D matrix with below elements using loop and list comprehension both.\n",
    "#Output:- [[0,0,0,0],[0,1,2,3],[0,2,4,6],[0,3,6,9]]\n",
    "op_lst = [[i*j for j in range(0,4)] for i in range(0,4)]\n",
    "print(op_lst)\n"
   ]
  },
  {
   "cell_type": "code",
   "execution_count": null,
   "metadata": {
    "id": "Pxafor84948b"
   },
   "outputs": [],
   "source": [
    "#Write a Python program to create a 3X4X6 3D matrix wiith below elements using loop\n",
    "#Output:- \n",
    "# [\n",
    "#     [[0,0,0,0,0,0],[0,0,0,0,0,0],[0,0,0,0,0,0],[0,0,0,0,0,0]],\n",
    "#     [[0,0,0,0,0,0],[1,1,1,1,1,1],[2,2,2,2,2,2],[3,3,3,3,3,3]],\n",
    "#     [[0,0,0,0,0,0],[2,2,2,2,2,2],[4,4,4,4,4,4],[6,6,6,6,6,6]]\n",
    "# ]\n",
    "\n",
    "op_lst = []\n",
    "\n",
    "for i in range(3):\n",
    "    print_lst = []\n",
    "    for j in range(4):\n",
    "        temp_lst = []\n",
    "        for k in range(6):\n",
    "            temp_lst.append(i * j)\n",
    "        op_lst.append(temp_lst)\n",
    "        print_lst.append(temp_lst)\n",
    "\n",
    "    print(print_lst)\n",
    "\n"
   ]
  },
  {
   "cell_type": "code",
   "execution_count": 32,
   "metadata": {
    "id": "lYNv8gk794_p"
   },
   "outputs": [
    {
     "name": "stdout",
     "output_type": "stream",
     "text": [
      "[21, 87, 45, 33, 1]\n"
     ]
    }
   ],
   "source": [
    "#Write a Python program which takes a list of numbers as input and prints a new list after removing even numbers from it.\n",
    "#Input:- [10,21,22,98,87,45,33,1,2,100]\n",
    "#Output:- [21,87,45,33,1]\n",
    "data = [10,21,22,98,87,45,33,1,2,100]\n",
    "new_list=[]\n",
    "for i in data:\n",
    "    if(i%2!=0):\n",
    "        new_list.append(i)\n",
    "print(new_list)\n",
    "    \n",
    "\n",
    "\n"
   ]
  },
  {
   "cell_type": "code",
   "execution_count": 34,
   "metadata": {
    "id": "3BaCb-rB95B7"
   },
   "outputs": [
    {
     "name": "stdout",
     "output_type": "stream",
     "text": [
      "After a random shuffle: [2, 22, 33, 10, 1, 98, 45, 87, 21, 100]\n"
     ]
    }
   ],
   "source": [
    "#Write a Python program which takes a list from the user and prints it after reshuffling the elements of the list.\n",
    "#Input:- [10,21,22,98,87,45,33,1,2,100]\n",
    "#Output:- [1,87,21,10,33,2,100,45,98,22] (It may be any randon list but with same elements)\n",
    "data = [10,21,22,98,87,45,33,1,2,100]\n",
    "import random\n",
    "random.shuffle(data)\n",
    "print(\"After a random shuffle:\",data)\n",
    "\n"
   ]
  }
 ],
 "metadata": {
  "colab": {
   "name": "List_Assignment.ipynb",
   "provenance": []
  },
  "kernelspec": {
   "display_name": "Python 3 (ipykernel)",
   "language": "python",
   "name": "python3"
  },
  "language_info": {
   "codemirror_mode": {
    "name": "ipython",
    "version": 3
   },
   "file_extension": ".py",
   "mimetype": "text/x-python",
   "name": "python",
   "nbconvert_exporter": "python",
   "pygments_lexer": "ipython3",
   "version": "3.11.7"
  }
 },
 "nbformat": 4,
 "nbformat_minor": 4
}
