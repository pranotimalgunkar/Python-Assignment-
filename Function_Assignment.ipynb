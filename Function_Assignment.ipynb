{
 "cells": [
  {
   "cell_type": "code",
   "execution_count": 13,
   "metadata": {
    "id": "1YVTYu-CuCOO"
   },
   "outputs": [
    {
     "name": "stdin",
     "output_type": "stream",
     "text": [
      "enter a num1: 4\n",
      "Enter a num2: 4\n"
     ]
    },
    {
     "name": "stdout",
     "output_type": "stream",
     "text": [
      "8\n"
     ]
    }
   ],
   "source": [
    "# Define a function calls addNumber(x, y) that takes in two number and returns the sum of the two numbers.\n",
    "def add_num(num1,num2):\n",
    "    sum = (num1+num2)\n",
    "    return (sum)\n",
    "\n",
    "x=int(input(\"enter a num1:\"))\n",
    "y=int(input(\"Enter a num2:\"))\n",
    "print(add_num(x,y))\n",
    "\n"
   ]
  },
  {
   "cell_type": "code",
   "execution_count": 15,
   "metadata": {
    "id": "1-gIq-Rju2i2"
   },
   "outputs": [
    {
     "name": "stdin",
     "output_type": "stream",
     "text": [
      "enter a num1: 10\n",
      "Enter a num2: 5\n"
     ]
    },
    {
     "name": "stdout",
     "output_type": "stream",
     "text": [
      "5\n"
     ]
    }
   ],
   "source": [
    "# Define a function calls subtractNumber(x, y) that takes in two numbers and returns the difference of the two numbers.\n",
    "\n",
    "def sub_num(num1,num2):\n",
    "    subtract = (num1-num2)\n",
    "    return (subtract)\n",
    "\n",
    "x=int(input(\"enter a num1:\"))\n",
    "y=int(input(\"Enter a num2:\"))\n",
    "print(sub_num(x,y))\n"
   ]
  },
  {
   "cell_type": "code",
   "execution_count": 17,
   "metadata": {
    "id": "kiAE0iLbviG9"
   },
   "outputs": [
    {
     "name": "stdin",
     "output_type": "stream",
     "text": [
      "enter a num1: 8\n",
      "Enter a num2: 5\n"
     ]
    },
    {
     "name": "stdout",
     "output_type": "stream",
     "text": [
      "Bigger number is num1: 8\n"
     ]
    }
   ],
   "source": [
    "# Write a function getBiggerNumber(x, y) that takes in two numbers as arguments and returns the bigger number.\n",
    "\n",
    "def bigger_num(num1,num2):\n",
    "    if num1>num2:\n",
    "        print(\"Bigger number is num1:\",num1)\n",
    "    else:\n",
    "        print(\"Bigger number is num2:\",num2)\n",
    "\n",
    "\n",
    "x=int(input(\"enter a num1:\"))\n",
    "y=int(input(\"Enter a num2:\"))\n",
    "bigger_num(x,y)"
   ]
  },
  {
   "cell_type": "code",
   "execution_count": 21,
   "metadata": {
    "id": "10B5oVcZh16d"
   },
   "outputs": [
    {
     "name": "stdout",
     "output_type": "stream",
     "text": [
      "Squre root of 25 is: 5.0\n",
      "2 to power 5 is: 32.0\n",
      "Area of Circle with radius 3.0 is: 28.274333882308138\n"
     ]
    }
   ],
   "source": [
    "# Python provides many built-in modules with many useful functions. \n",
    "# One such module is the math module. The math module provides many useful functions such as sqrt(x), pow(x, y), ceil(x), floor(x) etc. \n",
    "# You will need to do a \"import math\" before you are allowed to use the functions within the math module.\n",
    "import math\n",
    "\n",
    "# Calculate the square root of 16 and stores it in the variable a\n",
    "a= math.sqrt(25)\n",
    "print(\"Squre root of 25 is:\",a)\n",
    "\n",
    "# Calculate 3 to the power of 5 and stores it in the variable b\n",
    "b= math.pow(2,5)\n",
    "print(\"2 to power 5 is:\",b)\n",
    "\n",
    "# Calculate area of circle with radius = 3.0 by making use of the math.pi constant and store it in the variable c\n",
    "radius = 3.0\n",
    "Area = math.pi*radius*radius\n",
    "print(\"Area of Circle with radius 3.0 is:\",Area)\n"
   ]
  },
  {
   "cell_type": "code",
   "execution_count": 32,
   "metadata": {
    "id": "Yado0B99h2E_"
   },
   "outputs": [
    {
     "name": "stdin",
     "output_type": "stream",
     "text": [
      "Enter a temp in oC 4\n"
     ]
    },
    {
     "name": "stdout",
     "output_type": "stream",
     "text": [
      "Celsius temperature is: 4 equivalent Fahrenheit scale is: 39.2\n"
     ]
    }
   ],
   "source": [
    "# Write a function to convert temperature from Celsius to Fahrenheit scale.\n",
    "# oC to oF Conversion: Multipy by 9, then divide by 5, then add 32.\n",
    "\n",
    "# Note: Return a string of 2 decimal places.\n",
    "# In - Cel2Fah(28.0)\n",
    "# Out - '82.40'\n",
    "# In - Cel2Fah(0.00)\n",
    "# Out - '32.00'\n",
    "\n",
    "def C_to_F(temp):\n",
    "    cel_to_f =((temp*9)/5)+32\n",
    "    return cel_to_f\n",
    "temperature = int(input(\"Enter a temp in oC\"))\n",
    "print(\"Celsius temperature is:\",temperature,\"equivalent Fahrenheit scale is:\",  C_to_F(temperature))"
   ]
  },
  {
   "cell_type": "code",
   "execution_count": 40,
   "metadata": {
    "id": "n7lsFol9h2ID"
   },
   "outputs": [
    {
     "name": "stdin",
     "output_type": "stream",
     "text": [
      "Enter a weight in kg: 1000\n",
      "Enter a height in meter: 4\n"
     ]
    },
    {
     "data": {
      "text/plain": [
       "62.5"
      ]
     },
     "execution_count": 40,
     "metadata": {},
     "output_type": "execute_result"
    }
   ],
   "source": [
    "# Write a function to compute the BMI of a person.\n",
    "#     BMI = weight(kg)  /  ( height(m)*height(m) )\n",
    "\n",
    "# Note: Return a string of 1 decimal place.\n",
    "# In - BMI(63, 1.7)\n",
    "# Out - '21.8'\n",
    "# In - BMI(110, 2)\n",
    "# Out - '27.5'\n",
    "\n",
    "def cal_bmi(weight,height):\n",
    "    BMI = weight  /  ( height*height)\n",
    "    return round(BMI,1)\n",
    "\n",
    "a =int(input(\"Enter a weight in kg:\"))\n",
    "b = int(input(\"Enter a height in meter:\"))\n",
    "cal_bmi(a,b)\n",
    "    \n"
   ]
  },
  {
   "cell_type": "code",
   "execution_count": 42,
   "metadata": {
    "id": "f2tV1AU8h2LN"
   },
   "outputs": [
    {
     "name": "stdin",
     "output_type": "stream",
     "text": [
      "Enter a value: 46\n",
      "Enter a total: 90\n"
     ]
    },
    {
     "name": "stdout",
     "output_type": "stream",
     "text": [
      "Percentage value is: 51\n"
     ]
    }
   ],
   "source": [
    "# Write a function percent(value, total) that takes in two numbers as arguments, and returns the percentage value as an integer.\n",
    "# In - percent(46, 90)\n",
    "# Out - 51\n",
    "# In - percent(51, 51)\n",
    "# Out - 100\n",
    "# In - percent(63, 12)\n",
    "# Out - 525\n",
    "\n",
    "def cal_per(value, total):\n",
    "    percentage = (value/total)*100\n",
    "    return round(percentage)\n",
    "\n",
    "a = int(input(\"Enter a value:\"))\n",
    "b = int(input(\"Enter a total:\"))\n",
    "print(\"Percentage value is:\",cal_per(a,b))\n",
    "        "
   ]
  },
  {
   "cell_type": "code",
   "execution_count": 45,
   "metadata": {
    "id": "QyoWR3dQh2OZ"
   },
   "outputs": [
    {
     "name": "stdin",
     "output_type": "stream",
     "text": [
      "Enter side one: 3\n",
      "Enter side two: 4\n"
     ]
    },
    {
     "data": {
      "text/plain": [
       "5"
      ]
     },
     "execution_count": 45,
     "metadata": {},
     "output_type": "execute_result"
    }
   ],
   "source": [
    "# Write a function to compute the hypotenuse given sides a and b of the triangle.\n",
    "# Hint: You can use math.sqrt(x) to compute the square root of x.\n",
    "# In - hypotenuse(3, 4)\n",
    "# Out - 5\n",
    "# In - hypotenuse(5, 12)\n",
    "# Out - 13\n",
    "\n",
    "import math\n",
    "def cal_hypo (side1,side2):\n",
    "    return round(math.sqrt(a**2 + b**2))\n",
    "\n",
    "a = int(input(\"Enter side one:\"))\n",
    "b = int(input(\"Enter side two:\"))\n",
    "cal_hypo(a,b)"
   ]
  },
  {
   "cell_type": "code",
   "execution_count": 48,
   "metadata": {
    "id": "XthPUigkh2Ro"
   },
   "outputs": [
    {
     "name": "stdin",
     "output_type": "stream",
     "text": [
      "Enter a list: [2, 3, 4]\n"
     ]
    },
    {
     "name": "stdout",
     "output_type": "stream",
     "text": [
      "Total sum: 9\n"
     ]
    }
   ],
   "source": [
    "# Write a function getSumOfLastDigits() that takes in a list of positive numbers and returns the sum of all the last digits in the list.\n",
    "# getSumOfLastDigits([2, 3, 4])\n",
    "# 9\n",
    "# getSumOfLastDigits([1, 23, 456])\n",
    "# 10\n",
    "def getSumOfLastDigits(lst):\n",
    "    sum = 0\n",
    "    for i in lst:\n",
    "        sum += i\n",
    "    return sum\n",
    "a = eval(input(\"Enter a list:\"))\n",
    "\n",
    "print(\"Total sum:\",getSumOfLastDigits(a))  "
   ]
  },
  {
   "cell_type": "code",
   "execution_count": 14,
   "metadata": {
    "id": "T-uIqm9Mh2Un"
   },
   "outputs": [
    {
     "name": "stdout",
     "output_type": "stream",
     "text": [
      "My name is Lim .I am 20 years old.\n",
      "My name is Ahmad . My age is secret.\n"
     ]
    }
   ],
   "source": [
    "# Write a function that uses a default value.\n",
    "# In - introduce('Lim', 20)\n",
    "# Out - 'My name is Lim. I am 20 years old.'\n",
    "# In - introduce('Ahmad')\n",
    "# Out - 'My name is Ahmad. My age is secret.'\n",
    "\n",
    "def introduce(name,age=\". My age is secret.\"):\n",
    "    if str(age).isnumeric():\n",
    "        print(\"My name is\",name,\".I am\",age ,\"years old.\")\n",
    "    else:\n",
    "        print(\"My name is\",name,age)\n",
    "introduce('Lim', 20)\n",
    "introduce('Ahmad')"
   ]
  },
  {
   "cell_type": "code",
   "execution_count": 36,
   "metadata": {
    "id": "h0pXo5vH6wA-"
   },
   "outputs": [
    {
     "name": "stdin",
     "output_type": "stream",
     "text": [
      "Enter length of one side of triangle -3\n",
      "Enter length of second side -3\n",
      "Enter length of third side -3\n"
     ]
    },
    {
     "name": "stdout",
     "output_type": "stream",
     "text": [
      "Are these sides of an equilateral triangle?: False\n"
     ]
    }
   ],
   "source": [
    "# Write a function isEquilateral(x, y, z) that accepts the 3 sides of a triangle as arguments. \n",
    "# The program should return True if it is an equilateral triangle.\n",
    "\n",
    "# In - isEquilateral(2, 4, 3)\n",
    "# False - False\n",
    "# In - isEquilateral(3, 3, 3)\n",
    "# Out - True\n",
    "# In - isEquilateral(-3, -3, -3)\n",
    "# Out - False\n",
    "\n",
    "\n",
    "def is_Equilateral(x,y,z):\n",
    "    if (x+y <= z) or (x+z <= y) or (y+z <= x):\n",
    "        return False\n",
    "    else:\n",
    "        if x == y == z:\n",
    "            return True\n",
    "        else:\n",
    "            return False \n",
    "            \n",
    "num1 = eval(input(\"Enter length of one side of triangle\"))\n",
    "num2 = eval(input(\"Enter length of second side\"))\n",
    "num3 = eval(input(\"Enter length of third side\"))\n",
    "\n",
    "#check whether it is equilateral triangle using check_equilateral function\n",
    "print(\"Are these sides of an equilateral triangle?:\", is_Equilateral(num1, num2, num3))"
   ]
  },
  {
   "cell_type": "code",
   "execution_count": 40,
   "metadata": {
    "id": "3NvcKCkn6wFy"
   },
   "outputs": [
    {
     "name": "stdin",
     "output_type": "stream",
     "text": [
      "a quadratic equation in the form of ax2+bx+c ,Enter value of a: 1\n",
      "Enter value of b: 2\n",
      "Enter value of c: 0\n"
     ]
    },
    {
     "data": {
      "text/plain": [
       "4"
      ]
     },
     "execution_count": 40,
     "metadata": {},
     "output_type": "execute_result"
    }
   ],
   "source": [
    "# For a quadratic equation in the form of ax2+bx+c, the discriminant, D is b2-4ac. Write a function to compute the discriminant, D.\n",
    "# In - quadratic(1, 2, 3)\n",
    "# Out - 'The discriminant is -8.'\n",
    "# In - quadratic(1, 3, 2)\n",
    "# Out - 'The discriminant is 1.'\n",
    "# In - quadratic(1, 4, 4)\n",
    "# Out - 'The discriminant is 0.'\n",
    "\n",
    "def ip_quadratic (a,b,c):\n",
    "    Discriminant = b *b - 4*a*c\n",
    "    return Discriminant\n",
    "\n",
    "num1=int(input(\"a quadratic equation in the form of ax2+bx+c ,Enter value of a:\"))\n",
    "num2=int(input(\"Enter value of b:\"))\n",
    "num3=int(input(\"Enter value of c:\"))\n",
    "\n",
    "ip_quadratic(num1,num2,num3)\n",
    "    "
   ]
  },
  {
   "cell_type": "code",
   "execution_count": 48,
   "metadata": {
    "colab": {
     "base_uri": "https://localhost:8080/",
     "height": 34
    },
    "id": "ihmuttBS6wJQ",
    "outputId": "0ef031e9-dec6-4ffe-b1ea-38d836dbcdcf"
   },
   "outputs": [
    {
     "name": "stdin",
     "output_type": "stream",
     "text": [
      "Enter a list: [2,7,3]\n"
     ]
    },
    {
     "data": {
      "text/plain": [
       "5"
      ]
     },
     "execution_count": 48,
     "metadata": {},
     "output_type": "execute_result"
    }
   ],
   "source": [
    "# Define a function calls addFirstAndLast(x) that takes in a list of numbers and returns the sum of the first and last numbers.\n",
    "# In - addFirstAndLast([])\n",
    "# Out - 0\n",
    "# In - addFirstAndLast([2, 7, 3])\n",
    "# Out - 5\n",
    "# In - addFirstAndLast([10])\n",
    "# Out - 10\n",
    "\n",
    "def addFirstAndLast(lst):\n",
    "  if len(lst) == 1:\n",
    "    return lst[0]\n",
    "  elif lst:\n",
    "    return lst[0] + lst[-1]\n",
    "  else:\n",
    "    return '0'\n",
    "a = eval(input(\"Enter a list:\"))\n",
    "addFirstAndLast(a)\n"
   ]
  },
  {
   "cell_type": "code",
   "execution_count": null,
   "metadata": {
    "colab": {
     "base_uri": "https://localhost:8080/",
     "height": 34
    },
    "id": "lEt9HNPI6wM0",
    "outputId": "b07e15c3-a864-454c-aef5-1f1f0e07b39a"
   },
   "outputs": [
    {
     "data": {
      "text/plain": [
       "True"
      ]
     },
     "execution_count": 6,
     "metadata": {
      "tags": []
     },
     "output_type": "execute_result"
    }
   ],
   "source": [
    "# Complete the 'lambda' expression so that it returns True if the argument is an even number, and False otherwise.\n",
    "\n",
    "(lambda num : True if num%2 == 0 else False)(6)"
   ]
  },
  {
   "cell_type": "code",
   "execution_count": null,
   "metadata": {
    "colab": {
     "base_uri": "https://localhost:8080/",
     "height": 35
    },
    "id": "JYWSZXPg6wQN",
    "outputId": "7b71e08d-573f-4d03-d5e3-e220df4c3b90"
   },
   "outputs": [
    {
     "data": {
      "application/vnd.google.colaboratory.intrinsic+json": {
       "type": "string"
      },
      "text/plain": [
       "\"'A function that computes and returns the final score.\""
      ]
     },
     "execution_count": 3,
     "metadata": {
      "tags": []
     },
     "output_type": "execute_result"
    }
   ],
   "source": [
    "# getScore.__doc__\n",
    "# 'A function that computes and returns the final score.'\n",
    "\n",
    "def getScore():\n",
    "  '''A function that computes and returns the final score.'''\n",
    "  pass\n",
    "getScore.__doc__"
   ]
  },
  {
   "cell_type": "code",
   "execution_count": 50,
   "metadata": {
    "colab": {
     "base_uri": "https://localhost:8080/",
     "height": 34
    },
    "id": "zmi81hi76wTK",
    "outputId": "232b4456-63ad-4582-d2cd-d888952dc957"
   },
   "outputs": [
    {
     "name": "stdin",
     "output_type": "stream",
     "text": [
      "Enter a num: 9\n"
     ]
    },
    {
     "name": "stdout",
     "output_type": "stream",
     "text": [
      "100\n"
     ]
    }
   ],
   "source": [
    "# In Python, it is possible to pass a function as a argument to another function. \n",
    "# Write a function useFunction(func, num) that takes in a function and a number as arguments. \n",
    "# The useFunction should produce the output shown in the examples given below.\n",
    "\n",
    "# def addOne(x):\n",
    "#   return x + 1\n",
    "# useFunction(addOne, 4)\n",
    "# 25\n",
    "# useFunction(addOne, 9)\n",
    "# 100\n",
    "# useFunction(addOne, 0)  \n",
    "# 1\n",
    "\n",
    "\n",
    "def addOne(x):\n",
    "  return x + 1\n",
    "\n",
    "def useFunction(addOne, n):\n",
    "  print(addOne(n)**2)\n",
    "\n",
    "\n",
    "a =  int(input(\"Enter a num:\"))\n",
    "\n",
    "useFunction(addOne, a)\n",
    "\n",
    "\n"
   ]
  },
  {
   "cell_type": "code",
   "execution_count": 1,
   "metadata": {
    "id": "JJm1zFMX6wWK"
   },
   "outputs": [],
   "source": [
    "# def f1():\n",
    "#   print('This is f1 function')\n",
    "#   f1()\n",
    "# f1()\n",
    "\n",
    "# This is infinite loop which has no ending."
   ]
  },
  {
   "cell_type": "code",
   "execution_count": 2,
   "metadata": {
    "colab": {
     "base_uri": "https://localhost:8080/",
     "height": 34
    },
    "id": "PBvBwg0O6waD",
    "outputId": "57768b69-c749-4d88-be06-7a9d41a98de2"
   },
   "outputs": [
    {
     "name": "stdout",
     "output_type": "stream",
     "text": [
      "\\t\n"
     ]
    }
   ],
   "source": [
    "print('\\\\t')"
   ]
  }
 ],
 "metadata": {
  "colab": {
   "name": "Function_Assignment.ipynb",
   "provenance": []
  },
  "kernelspec": {
   "display_name": "Python 3 (ipykernel)",
   "language": "python",
   "name": "python3"
  },
  "language_info": {
   "codemirror_mode": {
    "name": "ipython",
    "version": 3
   },
   "file_extension": ".py",
   "mimetype": "text/x-python",
   "name": "python",
   "nbconvert_exporter": "python",
   "pygments_lexer": "ipython3",
   "version": "3.11.7"
  }
 },
 "nbformat": 4,
 "nbformat_minor": 4
}
