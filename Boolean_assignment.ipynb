{
 "cells": [
  {
   "cell_type": "code",
   "execution_count": 3,
   "id": "ae813b97-ce0e-4c50-bec5-ebd821eaf7b1",
   "metadata": {},
   "outputs": [
    {
     "name": "stdout",
     "output_type": "stream",
     "text": [
      "<class 'bool'> 140721823894112\n"
     ]
    }
   ],
   "source": [
    "# Q. Declare a boolean value and store it in a variable.\n",
    "# Check the type and print the id of the same.\n",
    "a = False\n",
    "print(type(a), id(a))"
   ]
  },
  {
   "cell_type": "code",
   "execution_count": 7,
   "id": "dce545f6-75e3-43c3-9ebd-3e5836004971",
   "metadata": {},
   "outputs": [
    {
     "name": "stdout",
     "output_type": "stream",
     "text": [
      "<class 'bool'>\n",
      "140714748168768\n",
      "140714748168768\n",
      "True\n"
     ]
    }
   ],
   "source": [
    "# Q. Take one boolean value between 0 - 256.\n",
    "# Assign it to two different variables.\n",
    "# Check the id of both the variables. It should come the same. Check why?\n",
    "a = bool(45)\n",
    "b = bool(45)\n",
    "print(id(a))\n",
    "print(id(b))\n",
    "print(a is b)  #True : id of a and b will be same because 0 - 256 is object reusability in python."
   ]
  },
  {
   "cell_type": "code",
   "execution_count": 5,
   "id": "486c4b58-0af4-41b2-b92f-a29b4537f020",
   "metadata": {},
   "outputs": [
    {
     "name": "stdout",
     "output_type": "stream",
     "text": [
      "2\n",
      "0\n",
      "1\n",
      "1.0\n",
      "0\n",
      "1\n",
      "1\n"
     ]
    }
   ],
   "source": [
    "# Q. Arithmetic Operations on boolean data\n",
    "# Take two different boolean values.\n",
    "# Store them in two different variables.\n",
    "# Do below operations on them:-\n",
    "# Find sum of both values\n",
    "# Find difference between them\n",
    "# Find the product of both.\n",
    "# Find value after dividing first value with second value\n",
    "# Find the remainder after dividing first value with second value\n",
    "# Find the quotient after dividing first value with second value\n",
    "# Find the result of first value to the power of second value.\n",
    "\n",
    "a = bool(70)\n",
    "b = bool(35)\n",
    "print(a+b)\n",
    "print(a-b)\n",
    "print(a*b)\n",
    "print(a/b)\n",
    "print(a%b)\n",
    "print(a//b)\n",
    "print(a**b)"
   ]
  },
  {
   "cell_type": "code",
   "execution_count": 8,
   "id": "85182b0c-4947-42cc-a427-a4372515aebc",
   "metadata": {},
   "outputs": [
    {
     "name": "stdout",
     "output_type": "stream",
     "text": [
      "False\n",
      "False\n",
      "True\n",
      "True\n"
     ]
    }
   ],
   "source": [
    "# Q. Comparison Operators on boolean values\n",
    "# Take two different boolean values.\n",
    "# Store them in two different variables.\n",
    "# Do below operations on them:-\n",
    "# Compare these two values with below operator:-\n",
    "# Greater than, '>'\n",
    "# less than, '<'\n",
    "# Greater than or equal to, '>='\n",
    "# Less than or equal to, '<='\n",
    "# Observe their output(return type should be boolean)\n",
    "a = bool(70)\n",
    "b = bool(35)\n",
    "print(a>b)\n",
    "print(a<b)\n",
    "print(a>=b)\n",
    "print(a<=b)"
   ]
  },
  {
   "cell_type": "code",
   "execution_count": 9,
   "id": "f9cb0aed-5483-4920-b11a-252296ec353a",
   "metadata": {},
   "outputs": [
    {
     "name": "stdout",
     "output_type": "stream",
     "text": [
      "True\n",
      "False\n"
     ]
    }
   ],
   "source": [
    "# Q. Equality Operator\n",
    "# Take two different boolean values.\n",
    "# Store them in two different variables.\n",
    "# Equate them using equality operators (==, !=)\n",
    "# Observe the output(return type should be boolean)\n",
    "a = bool(70)\n",
    "b = bool(35)\n",
    "print(a==b)\n",
    "print(a!=b)"
   ]
  },
  {
   "cell_type": "code",
   "execution_count": 10,
   "id": "bed0a74b-14b1-4736-bf89-06e846d448d8",
   "metadata": {},
   "outputs": [
    {
     "name": "stdout",
     "output_type": "stream",
     "text": [
      "True\n",
      "False\n",
      "False\n",
      "False\n",
      "True\n",
      "True\n",
      "True\n",
      "False\n",
      "False\n",
      "True\n"
     ]
    }
   ],
   "source": [
    "# Q. Logical operators\n",
    "# Observe the output of below code\n",
    "# Cross check the output manually\n",
    "# print(True and True)\n",
    "# #----------------------------------------->Output is True\n",
    "\n",
    "# print(False and True)\n",
    "# #----------------------------------------->Output is False\n",
    "# print(True and False)\n",
    "# #----------------------------------------->Output is False\n",
    "# print(False and False)\n",
    "# #----------------------------------------->Output is False\n",
    "# print(True or True)\n",
    "# #----------------------------------------->Output is True\n",
    "# print(False or True)\n",
    "# #----------------------------------------->Output is True\n",
    "# print(True or False)\n",
    "# #----------------------------------------->Output is True\n",
    "# print(False or False)\n",
    "# #----------------------------------------->Output is False\n",
    "# print(not True)\n",
    "# #----------------------------------------->Output is False\n",
    "# print(not False)\n",
    "# #----------------------------------------->Output is True\n",
    "\n",
    "\n",
    "print(True and True)\n",
    "\n",
    "print(False and True)\n",
    "\n",
    "print(True and False)\n",
    "\n",
    "print(False and False)\n",
    "\n",
    "print(True or True)\n",
    "\n",
    "print(False or True)\n",
    "\n",
    "print(True or False)\n",
    "\n",
    "print(False or False)\n",
    "\n",
    "print(not True)\n",
    "\n",
    "print(not False)"
   ]
  },
  {
   "cell_type": "code",
   "execution_count": 14,
   "id": "1ecf6dd4-e4ba-4d83-980b-be46bd0fc4d2",
   "metadata": {},
   "outputs": [
    {
     "name": "stdout",
     "output_type": "stream",
     "text": [
      "True\n",
      "True\n",
      "True\n",
      "-2\n",
      "4\n",
      "0\n"
     ]
    }
   ],
   "source": [
    "# Q. Bitwise Operators\n",
    "# Do below operations on the values provided below:-\n",
    "# Bitwise and(&) --------------> True, True -------> Output is True\n",
    "# Bitwise or(|) --------------> True, False -------> Output is True\n",
    "# Bitwise(^) --------------> True, False -------> Output is True\n",
    "# Bitwise negation(~) ---------> True -------> Output is -2\n",
    "# Bitwise left shift ---------> True,2 -------> Output is 4\n",
    "# Bitwise right shift ---------> True,2 -------> Output is 0\n",
    "# Cross check the output manually\n",
    "\n",
    "print(True&True)\n",
    "print(True|False)\n",
    "print(True^False)\n",
    "print(~True)\n",
    "print(True<<2)\n",
    "print(True>>2)\n"
   ]
  },
  {
   "cell_type": "code",
   "execution_count": 15,
   "id": "e9c5e5a6-b53d-40f2-a150-d07b5099d5f3",
   "metadata": {},
   "outputs": [
    {
     "name": "stdout",
     "output_type": "stream",
     "text": [
      "True\n",
      "False\n",
      "True\n",
      "False\n"
     ]
    }
   ],
   "source": [
    "# Q. What is the output of expression inside the print statement. Cross\n",
    "# check before running the program.\n",
    "# a = True\n",
    "# b = True\n",
    "# print(a is b) #True or False? #\n",
    "\n",
    "# print(a is not b) #True or False?\n",
    "# a = False\n",
    "# b = False\n",
    "# print(a is b) #True or False?\n",
    "# print(a is not b) #True or False?\n",
    "\n",
    "\n",
    "a = True\n",
    "b = True\n",
    "print(a is b) \n",
    "print(a is not b) \n",
    "\n",
    "a = False\n",
    "b = False\n",
    "print(a is b) \n",
    "print(a is not b) "
   ]
  },
  {
   "cell_type": "code",
   "execution_count": 16,
   "id": "2006c35b-8477-4b66-a75e-adf0f1a5e174",
   "metadata": {},
   "outputs": [
    {
     "name": "stdout",
     "output_type": "stream",
     "text": [
      "True\n",
      "True\n",
      "True\n",
      "True\n",
      "True\n"
     ]
    }
   ],
   "source": [
    "# Q. Membership operation\n",
    "# in, not in are two membership operators and it returns boolean value\n",
    "# print(True in [10,10.20,10+20j,'Python', True])\n",
    "# print(False in (10,10.20,10+20j,'Python', False))\n",
    "# print(True in {1,2,3, True})\n",
    "# print(True in {True:100, False:200, True:300})\n",
    "# print(False in {True:100, False:200, True:300})\n",
    "\n",
    "\n",
    "print(True in [10,10.20,10+20j,'Python', True])\n",
    "print(False in (10,10.20,10+20j,'Python', False))\n",
    "print(True in {1,2,3, True})\n",
    "print(True in {True:100, False:200, True:300})\n",
    "print(False in {True:100, False:200, True:300})"
   ]
  }
 ],
 "metadata": {
  "kernelspec": {
   "display_name": "Python 3 (ipykernel)",
   "language": "python",
   "name": "python3"
  },
  "language_info": {
   "codemirror_mode": {
    "name": "ipython",
    "version": 3
   },
   "file_extension": ".py",
   "mimetype": "text/x-python",
   "name": "python",
   "nbconvert_exporter": "python",
   "pygments_lexer": "ipython3",
   "version": "3.11.7"
  }
 },
 "nbformat": 4,
 "nbformat_minor": 5
}
