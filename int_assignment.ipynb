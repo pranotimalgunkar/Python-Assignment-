{
 "cells": [
  {
   "cell_type": "code",
   "execution_count": 3,
   "id": "e4b2ce0d-5e57-422c-87a4-8e72bc1e76b2",
   "metadata": {},
   "outputs": [
    {
     "name": "stdout",
     "output_type": "stream",
     "text": [
      "10 <class 'int'> 140707493430344\n"
     ]
    }
   ],
   "source": [
    "# Q.1 Declare an int value and store it in a variable.\n",
    "# Check the type and print the id of the same.\n",
    "\n",
    "a = 10 \n",
    "print(a , type(a) , id(a))"
   ]
  },
  {
   "cell_type": "code",
   "execution_count": 5,
   "id": "e8294336-f71d-4d4d-af2f-a86a665d41b0",
   "metadata": {},
   "outputs": [
    {
     "name": "stdout",
     "output_type": "stream",
     "text": [
      "140707493438024 140707493438024\n",
      "True\n"
     ]
    }
   ],
   "source": [
    "# Q.2 Take one int value between 0 - 256.\n",
    "# Assign it to two different variables.\n",
    "# Check the id of both the variables. It should come the same. Check why?\n",
    "\n",
    "a = 250\n",
    "b = 250\n",
    "print(id(a) , id(b))\n",
    "print( a is b )  #True : id of a and b will be same because 0 - 256 is object reusability in python.\n"
   ]
  },
  {
   "cell_type": "code",
   "execution_count": 6,
   "id": "92dbef6d-978e-4abe-92f6-f5bde4fa9f72",
   "metadata": {},
   "outputs": [
    {
     "name": "stdout",
     "output_type": "stream",
     "text": [
      "3128209651984 3128209642352\n",
      "False\n"
     ]
    }
   ],
   "source": [
    "# Q.3 Take one int value either less than -5 or greater than 256.\n",
    "# Assign it to two different variables.\n",
    "# Check the id of both the variables. It should come different.Check why?\n",
    "\n",
    "a = 300\n",
    "b = 300\n",
    "print(id(a) , id(b))\n",
    "print( a is b )"
   ]
  },
  {
   "cell_type": "code",
   "execution_count": 3,
   "id": "9f83aefc-3fce-435f-a90b-73fe477c694b",
   "metadata": {},
   "outputs": [
    {
     "name": "stdout",
     "output_type": "stream",
     "text": [
      "16\n",
      "8\n",
      "48\n",
      "3.0\n",
      "0\n",
      "3\n",
      "20736\n"
     ]
    }
   ],
   "source": [
    "# Q.4 Arithmetic Operations on integers\n",
    "# Take two different integer values.\n",
    "# Store them in two different variables.\n",
    "# Do below operations on them:-\n",
    "#  Find sum of both numbers\n",
    "#  Find difference between them\n",
    "#  Find the product of both numbers.\n",
    "#  Find value after dividing first num with second number\n",
    "#  Find the remainder after dividing first number with second number\n",
    "#  Find the quotient after dividing first number with second number\n",
    "#  Find the result of the first num to the power of the second number.\n",
    "\n",
    "a = 12\n",
    "b = 4 \n",
    "print(a + b ) \n",
    "print(a - b )\n",
    "print(a * b )\n",
    "print(a / b )\n",
    "print(a % b )\n",
    "print(a // b)\n",
    "print(a**b)\n"
   ]
  },
  {
   "cell_type": "code",
   "execution_count": 4,
   "id": "be431b8b-7fe2-45ce-b03d-ef641308c4af",
   "metadata": {},
   "outputs": [
    {
     "name": "stdout",
     "output_type": "stream",
     "text": [
      "True\n",
      "False\n",
      "True\n",
      "False\n"
     ]
    }
   ],
   "source": [
    "# Q.5 Comparison Operators on integers\n",
    "# Take two different integer values.\n",
    "# Store them in two different variables.\n",
    "# Do below operations on them:-\n",
    "#  Compare se two numbers with below operator:-\n",
    "#  Greater than, '>'\n",
    "#  Smaller than, '<'\n",
    "#  Greater than or equal to, '>='\n",
    "#  Less than or equal to, '<='\n",
    "# Observe their output(return type should be boolean)\n",
    "\n",
    "a = 20 \n",
    "b = 10 \n",
    "print(a>b)\n",
    "print(a<b)\n",
    "print(a>=b)\n",
    "print(a<=b)"
   ]
  },
  {
   "cell_type": "code",
   "execution_count": 5,
   "id": "e3b33a93-7973-4237-b610-90cd43a57ac6",
   "metadata": {},
   "outputs": [
    {
     "name": "stdout",
     "output_type": "stream",
     "text": [
      "False\n",
      "True\n"
     ]
    }
   ],
   "source": [
    "# Q.6 Equality Operator\n",
    "# Take two different integer values.\n",
    "# Store them in two different variables.\n",
    "# Equate them using equality operators (==, !=)\n",
    "# Observe the output(return type should be boolean)\n",
    "\n",
    "a = 14\n",
    "b = 20\n",
    "print(a==b)\n",
    "print(a!=b)"
   ]
  },
  {
   "cell_type": "code",
   "execution_count": 1,
   "id": "c9fa9b76-fb26-42af-bd5f-310f8e065048",
   "metadata": {},
   "outputs": [
    {
     "name": "stdout",
     "output_type": "stream",
     "text": [
      "20\n",
      "0\n",
      "0\n",
      "0\n",
      "10\n",
      "20\n",
      "20\n",
      "0\n",
      "False\n",
      "True\n"
     ]
    }
   ],
   "source": [
    "# Q7. Logical operators\n",
    "# Observe the output of below code\n",
    "# Cross check the output manually\n",
    "# print ( 10 and 20 )\n",
    "# #----------------------------------------->Output is 20\n",
    "# print ( 0 and 20 )\n",
    "# #----------------------------------------->Output is 0\n",
    "# print ( 20 and 0 )\n",
    "# #----------------------------------------->Output is 0\n",
    "# print ( 0 and 0 )\n",
    "# #----------------------------------------->Output is 0\n",
    "# print ( 10 or 20 )\n",
    "# #----------------------------------------->Output is 10\n",
    "# print ( 0 or 20 )\n",
    "# #----------------------------------------->Output is 20\n",
    "# print ( 20 or 0 )\n",
    "# #----------------------------------------->Output is 20\n",
    "# print ( 0 or 0 )\n",
    "# #----------------------------------------->Output is 0\n",
    "# print ( not 10 )\n",
    "# #----------------------------------------->Output is False\n",
    "# print ( not 0 )\n",
    "# #----------------------------------------->Output is True\n",
    "\n",
    "print ( 10 and 20 )\n",
    "print ( 0 and 20 )\n",
    "print ( 20 and 0 )\n",
    "print ( 0 and 0 )\n",
    "print ( 10 or 20 )\n",
    "print ( 0 or 20 )\n",
    "print ( 20 or 0 )\n",
    "print ( 0 or 0 )\n",
    "print ( not 10 )\n",
    "print ( not 0 )"
   ]
  },
  {
   "cell_type": "code",
   "execution_count": 2,
   "id": "2162fbf7-2067-497e-acf6-d76dd92294ed",
   "metadata": {},
   "outputs": [
    {
     "name": "stdout",
     "output_type": "stream",
     "text": [
      "0\n",
      "30\n",
      "30\n",
      "-11\n",
      "40\n",
      "2\n"
     ]
    }
   ],
   "source": [
    "# Q.8 Bitwise Operators\n",
    "# Do below operations on the values provided below:-\n",
    "#  Bitwise and(&) -----------------------------------------> 10, 20\n",
    "# -------> Output is 0\n",
    "#  Bitwise or(|) -----------------------------------------> 10, 20\n",
    "# -------> Output is 30\n",
    "#  Bitwise(^) -----------------------------------------> 10, 20\n",
    "# -------> Output is 30\n",
    "#  Bitwise negation(~) ------------------------------------> 10\n",
    "# -------> Output is -11\n",
    "#  Bitwise left shift ------------------------------------> 10,2\n",
    "# -------> Output is 40\n",
    "#  Bitwise right shift ------------------------------------> 10,2\n",
    "# -------> Output is 2\n",
    "# Cross check the output manually\n",
    "\n",
    "print(10&20)\n",
    "print(10|20)\n",
    "print(10^20)\n",
    "print(~10)\n",
    "print(10<<2)\n",
    "print(10>>2)"
   ]
  },
  {
   "cell_type": "code",
   "execution_count": 3,
   "id": "8dbb3375-d798-41e7-8d0f-02ce68590962",
   "metadata": {},
   "outputs": [
    {
     "name": "stdout",
     "output_type": "stream",
     "text": [
      "True\n",
      "False\n",
      "False\n",
      "True\n"
     ]
    }
   ],
   "source": [
    "# 9 What is the output of expression inside print statement. Cross check\n",
    "# before running the program.\n",
    "# a = 10\n",
    "# b = 10\n",
    "# print(a is b) #True or False?\n",
    "# print(a is not b) #True or False?\n",
    "# a = 1000\n",
    "# b = 1000\n",
    "# print(a is b) #True or False?\n",
    "# print(a is not b) #True or False?\n",
    "\n",
    "a = 10\n",
    "b = 10\n",
    "print(a is b)\n",
    "print(a is not b)\n",
    "a = 1000\n",
    "b = 1000\n",
    "print(a is b)\n",
    "print(a is not b)"
   ]
  },
  {
   "cell_type": "code",
   "execution_count": 4,
   "id": "19e5c8b0-d322-4c89-aa8e-f2abfd2ea86b",
   "metadata": {},
   "outputs": [
    {
     "name": "stdout",
     "output_type": "stream",
     "text": [
      "20\n"
     ]
    }
   ],
   "source": [
    "# Q.10 What is the output of expression inside print statement. Cross check\n",
    "# before running the program.\n",
    "# print(10+(10*32)//2**5&20+(~(-10))<<2)\n",
    "\n",
    "print(10+(10*32)//2**5&20+(~(-10))<<2)"
   ]
  },
  {
   "cell_type": "code",
   "execution_count": 5,
   "id": "f952ada3-9e08-4ef7-85f8-6b5ebd06e6b5",
   "metadata": {},
   "outputs": [
    {
     "name": "stdout",
     "output_type": "stream",
     "text": [
      "True\n",
      "True\n",
      "True\n",
      "True\n",
      "True\n",
      "True\n"
     ]
    }
   ],
   "source": [
    "# Q.11 Membership operation\n",
    "# in, not in are two membership operators and it returns boolean value\n",
    "# print('2' in 'Python2.7.8')\n",
    "# print(10 in [10,10.20,10+20j,'Python'])\n",
    "# print(10 in (10,10.20,10+20j,'Python'))\n",
    "# print(2 in {1,2,3})\n",
    "# print(3 in {1:100, 2:200, 3:300})\n",
    "# print(10 in range(20))\n",
    "\n",
    "print('2' in 'Python2.7.8')\n",
    "print(10 in [10,10.20,10+20j,'Python'])\n",
    "print(10 in (10,10.20,10+20j,'Python'))\n",
    "print(2 in {1,2,3})\n",
    "print(3 in {1:100, 2:200, 3:300})\n",
    "print(10 in range(20))"
   ]
  },
  {
   "cell_type": "code",
   "execution_count": 6,
   "id": "93b6971d-c127-4866-b8f7-caf558f1de50",
   "metadata": {},
   "outputs": [
    {
     "name": "stdout",
     "output_type": "stream",
     "text": [
      "0b1100100\n",
      "0o144\n",
      "0x64\n",
      "0b10011010010100\n",
      "0o23224\n",
      "0x2694\n"
     ]
    }
   ],
   "source": [
    "# Q. An integer can be represented in binary, octal or hexadecimal form.\n",
    "# Declare one binary, one octal and one hexadecimal value and store them\n",
    "# in three different variables.\n",
    "# Convert 9876 to its binary, octal and hexadecimal equivalent and print\n",
    "# their corresponding value.\n",
    "\n",
    "a = 100\n",
    "b = 100\n",
    "c = 100\n",
    "x = print(bin(a))\n",
    "y = print(oct(b))\n",
    "z = print(hex(c))\n",
    "m = 9876\n",
    "print(bin(m))\n",
    "print(oct(m))\n",
    "print(hex(m))\n",
    "\n"
   ]
  },
  {
   "cell_type": "code",
   "execution_count": 8,
   "id": "41c18aba-5d00-499a-a0e8-c82d1db72e45",
   "metadata": {},
   "outputs": [
    {
     "name": "stdout",
     "output_type": "stream",
     "text": [
      "80\n",
      "3870\n",
      "64222\n",
      "0b1010000\n",
      "0o7436\n",
      "0xfade\n",
      "0b1010000\n",
      "0b1111101011011110\n",
      "0o175336\n",
      "0o7436\n",
      "0x50\n",
      "0xfade\n"
     ]
    }
   ],
   "source": [
    "# Q. What will be the output of following:-\n",
    "# a = 0b1010000\n",
    "# print(a)\n",
    "# b = 0o7436\n",
    "# print(b)\n",
    "# c = 0xfade\n",
    "# print(c)\n",
    "# print(bin(80))\n",
    "# print(oct(3870))\n",
    "# print(hex(64222))\n",
    "# print(bin(0b1010000))\n",
    "# print(bin(0xfade))\n",
    "# print(oct(0xfade))\n",
    "# print(oct(0o7436))\n",
    "# print(hex(0b1010000))\n",
    "# print(hex(0xfade))\n",
    "\n",
    "a = 0b1010000\n",
    "print(a)\n",
    "b = 0o7436\n",
    "print(b)\n",
    "c = 0xfade\n",
    "print(c)\n",
    "print(bin(80))\n",
    "print(oct(3870))\n",
    "print(hex(64222))\n",
    "print(bin(0b1010000))\n",
    "print(bin(0xfade))\n",
    "print(oct(0xfade))\n",
    "print(oct(0o7436))\n",
    "print(hex(0b1010000))\n",
    "print(hex(0xfade))"
   ]
  }
 ],
 "metadata": {
  "kernelspec": {
   "display_name": "Python 3 (ipykernel)",
   "language": "python",
   "name": "python3"
  },
  "language_info": {
   "codemirror_mode": {
    "name": "ipython",
    "version": 3
   },
   "file_extension": ".py",
   "mimetype": "text/x-python",
   "name": "python",
   "nbconvert_exporter": "python",
   "pygments_lexer": "ipython3",
   "version": "3.11.7"
  }
 },
 "nbformat": 4,
 "nbformat_minor": 5
}
