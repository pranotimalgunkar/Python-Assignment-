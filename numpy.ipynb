{
 "cells": [
  {
   "cell_type": "markdown",
   "metadata": {},
   "source": [
    "# part 1\n",
    "\n",
    "\n",
    "How to create an empty and a full NumPy array?\n",
    "\n",
    "Create a Numpy array filled with all zeros\n",
    "\n",
    "Create a Numpy array filled with all ones\n",
    "\n",
    "Flatten a 2d numpy array into 1d array\n",
    "\n",
    "Reverse a numpy array\n",
    "\n",
    "Change data type of given numpy array"
   ]
  },
  {
   "cell_type": "code",
   "execution_count": 1,
   "metadata": {},
   "outputs": [
    {
     "name": "stdout",
     "output_type": "stream",
     "text": [
      "[[4.45057637e-308 1.78021527e-306 8.45549797e-307 1.37962049e-306]\n",
      " [1.11260619e-306 1.78010255e-306 9.79054228e-307 4.45057637e-308]\n",
      " [8.45596650e-307 9.34602321e-307 4.94065646e-322 0.00000000e+000]]\n"
     ]
    }
   ],
   "source": [
    "# How to create an empty and a full NumPy array?\n",
    "import numpy as np\n",
    "\n",
    "empty_array_2d = np.empty((3, 4))\n",
    "print(empty_array_2d)\n"
   ]
  },
  {
   "cell_type": "code",
   "execution_count": 7,
   "metadata": {},
   "outputs": [
    {
     "data": {
      "text/plain": [
       "array([[0., 0.],\n",
       "       [0., 0.],\n",
       "       [0., 0.]])"
      ]
     },
     "execution_count": 7,
     "metadata": {},
     "output_type": "execute_result"
    }
   ],
   "source": [
    "# Create a Numpy array filled with all zeros\n",
    "a=np.zeros(6)\n",
    "a\n",
    "np.zeros((3,2)) #2D array"
   ]
  },
  {
   "cell_type": "code",
   "execution_count": 13,
   "metadata": {},
   "outputs": [
    {
     "data": {
      "text/plain": [
       "array([[1, 1, 1, 1, 1],\n",
       "       [1, 1, 1, 1, 1],\n",
       "       [1, 1, 1, 1, 1],\n",
       "       [1, 1, 1, 1, 1]])"
      ]
     },
     "execution_count": 13,
     "metadata": {},
     "output_type": "execute_result"
    }
   ],
   "source": [
    "# Create a Numpy array filled with all ones\n",
    "a=np.ones((4,5),dtype=int)\n",
    "a"
   ]
  },
  {
   "cell_type": "code",
   "execution_count": 28,
   "metadata": {},
   "outputs": [
    {
     "name": "stdout",
     "output_type": "stream",
     "text": [
      "[[1 2]\n",
      " [3 4]\n",
      " [5 6]\n",
      " [7 8]]\n"
     ]
    }
   ],
   "source": [
    "# Flatten a 2d numpy array into 1d array\n",
    "a=np.array((1,2,3,4,5,6,7,8))\n",
    "b=a.reshape((4,2))\n",
    "print(b)"
   ]
  },
  {
   "cell_type": "code",
   "execution_count": 29,
   "metadata": {},
   "outputs": [
    {
     "name": "stdout",
     "output_type": "stream",
     "text": [
      "[1 2 3 4 5 6 7 8]\n"
     ]
    }
   ],
   "source": [
    "c=a.flatten() #to flatten array into 1d \n",
    "print(c)"
   ]
  },
  {
   "cell_type": "code",
   "execution_count": 38,
   "metadata": {},
   "outputs": [
    {
     "name": "stdout",
     "output_type": "stream",
     "text": [
      "[1 2 3 4 5 6 7 8]\n",
      "Reverse a numpy array is  [8 7 6 5 4 3 2 1]\n"
     ]
    }
   ],
   "source": [
    "# Reverse a numpy array\n",
    "arr=np.arange(1,9)\n",
    "print(arr)\n",
    "reverse_arr=arr[::-1]\n",
    "print(\"Reverse a numpy array is \",reverse_arr)"
   ]
  },
  {
   "cell_type": "code",
   "execution_count": 44,
   "metadata": {},
   "outputs": [
    {
     "name": "stdout",
     "output_type": "stream",
     "text": [
      "[10 20 30 40 50]\n",
      "int32\n",
      "[10. 20. 30. 40. 50.]\n",
      "float64\n"
     ]
    }
   ],
   "source": [
    "# Change data type of given numpy array\n",
    "arr = np.array([10, 20, 30, 40, 50]) \n",
    "# Print the array \n",
    "print(arr)\n",
    "\n",
    "# Print the dtype \n",
    "print(arr.dtype)\n",
    "\n",
    "# change the dtype to 'float64' \n",
    "arr = arr.astype('float64') \n",
    "print(arr) \n",
    "  \n",
    "# print the data type \n",
    "print(arr.dtype)"
   ]
  },
  {
   "cell_type": "markdown",
   "metadata": {},
   "source": [
    "# part 2\n",
    "\n",
    "Get the maximum value from given matrix\n",
    "\n",
    "Get the minimum value from given matrix\n",
    "\n",
    "Find the number of rows and columns of a given matrix using NumPy\n",
    "\n",
    "Select the elements from a given matrix\n",
    "\n",
    "Find the sum of values in a matrix\n",
    "\n",
    "Calculate the sum of the diagonal elements of a NumPy array\n",
    "\n",
    "Adding and Subtracting Matrices in Python\n",
    "\n",
    "Ways to add row/columns in numpy array"
   ]
  },
  {
   "cell_type": "code",
   "execution_count": 59,
   "metadata": {},
   "outputs": [
    {
     "name": "stdout",
     "output_type": "stream",
     "text": [
      "[0 1 2 3 4 5 6 7 8 9]\n",
      "maximum value from given matrix is: 9\n"
     ]
    }
   ],
   "source": [
    "# Get the maximum value from given matrix\n",
    "arr=np.arange(10)\n",
    "print(arr)\n",
    "print(\"maximum value from given matrix is:\",arr.max())"
   ]
  },
  {
   "cell_type": "code",
   "execution_count": 60,
   "metadata": {},
   "outputs": [
    {
     "name": "stdout",
     "output_type": "stream",
     "text": [
      "minimum value from given matrix is: 0\n"
     ]
    }
   ],
   "source": [
    "#Get the minimum value from given matrix\n",
    "print(\"minimum value from given matrix is:\",arr.min())"
   ]
  },
  {
   "cell_type": "code",
   "execution_count": 77,
   "metadata": {},
   "outputs": [
    {
     "data": {
      "text/plain": [
       "array([[ 0,  1],\n",
       "       [ 2,  3],\n",
       "       [ 4,  5],\n",
       "       [ 6,  7],\n",
       "       [ 8,  9],\n",
       "       [10, 11],\n",
       "       [12, 13]])"
      ]
     },
     "execution_count": 77,
     "metadata": {},
     "output_type": "execute_result"
    }
   ],
   "source": [
    "# Find the number of rows and columns of a given matrix using NumPy\n",
    "arr=np.arange(14)\n",
    "b=arr.reshape(7,2)\n",
    "b"
   ]
  },
  {
   "cell_type": "code",
   "execution_count": 79,
   "metadata": {},
   "outputs": [
    {
     "name": "stdout",
     "output_type": "stream",
     "text": [
      "Rows 7\n",
      "Columns: 2\n"
     ]
    }
   ],
   "source": [
    "dimension=b.shape\n",
    "rows, columns = dimension\n",
    "print(\"Rows\",rows)\n",
    "print(\"Columns:\",columns)\n"
   ]
  },
  {
   "cell_type": "code",
   "execution_count": 83,
   "metadata": {},
   "outputs": [
    {
     "name": "stdout",
     "output_type": "stream",
     "text": [
      "[[ 0  1  2  3  4]\n",
      " [ 5  6  7  8  9]\n",
      " [10 11 12 13 14]\n",
      " [15 16 17 18 19]\n",
      " [20 21 22 23 24]]\n",
      "To find element 8 from given matrix: 8\n"
     ]
    }
   ],
   "source": [
    "# Select the elements from a given matrix\n",
    "\n",
    "arr=np.arange(25).reshape(5,5)\n",
    "print(arr)\n",
    "print(\"To find element from given matrix:\",arr[1][3])"
   ]
  },
  {
   "cell_type": "code",
   "execution_count": 89,
   "metadata": {},
   "outputs": [
    {
     "name": "stdout",
     "output_type": "stream",
     "text": [
      "[[ 0  1  2  3]\n",
      " [ 4  5  6  7]\n",
      " [ 8  9 10 11]\n",
      " [12 13 14 15]]\n",
      "sum of values in a matrix : 120\n"
     ]
    }
   ],
   "source": [
    "# Find the sum of values in a matrix\n",
    "arr_=np.arange(16).reshape(4,4)\n",
    "print(arr_)\n",
    "print(\"sum of values in a matrix :\",arr_.sum())"
   ]
  },
  {
   "cell_type": "code",
   "execution_count": 90,
   "metadata": {},
   "outputs": [
    {
     "name": "stdout",
     "output_type": "stream",
     "text": [
      "[[ 0  1  2  3]\n",
      " [ 4  5  6  7]\n",
      " [ 8  9 10 11]\n",
      " [12 13 14 15]]\n",
      "sum of the diagonal elements of a NumPy array: 30\n"
     ]
    }
   ],
   "source": [
    "# Calculate the sum of the diagonal elements of a NumPy array\n",
    "arr_=np.arange(16).reshape(4,4)\n",
    "print(arr_)\n",
    "sum_diag = np.trace(arr_)\n",
    "print(\"sum of the diagonal elements of a NumPy array:\",sum_diag)"
   ]
  },
  {
   "cell_type": "code",
   "execution_count": 94,
   "metadata": {},
   "outputs": [
    {
     "name": "stdout",
     "output_type": "stream",
     "text": [
      "Adding matrices value [15 30 45 60]\n",
      "Subtracting matrices value [ 5 10 15 20]\n"
     ]
    }
   ],
   "source": [
    "# Adding and Subtracting Matrices in Python\n",
    "a = np.array([10,20,30,40])\n",
    "b = np.array ([5,10,15,20])\n",
    "add=a+b\n",
    "sub=a-b\n",
    "print(\"Adding matrices value\",add)\n",
    "print(\"Subtracting matrices value\",sub)"
   ]
  },
  {
   "cell_type": "code",
   "execution_count": 98,
   "metadata": {},
   "outputs": [
    {
     "name": "stdout",
     "output_type": "stream",
     "text": [
      "[[ 0  1  2  3]\n",
      " [ 4  5  6  7]\n",
      " [ 8  9 10 11]\n",
      " [12 13 14 15]]\n",
      "Adding of rows : [ 6 22 38 54]\n",
      "Adding of columns : [24 28 32 36]\n"
     ]
    }
   ],
   "source": [
    "# Ways to add row/columns in numpy array\n",
    "arr_=np.arange(16).reshape(4,4)\n",
    "print(arr_)\n",
    "a=arr_.sum(axis=1) #for adding of row axis=1\n",
    "print(\"Adding of rows :\",a)\n",
    "b=arr_.sum(axis=0) #for adding of row axis=0\n",
    "print(\"Adding of columns :\",b)"
   ]
  }
 ],
 "metadata": {
  "kernelspec": {
   "display_name": "Python 3 (ipykernel)",
   "language": "python",
   "name": "python3"
  },
  "language_info": {
   "codemirror_mode": {
    "name": "ipython",
    "version": 3
   },
   "file_extension": ".py",
   "mimetype": "text/x-python",
   "name": "python",
   "nbconvert_exporter": "python",
   "pygments_lexer": "ipython3",
   "version": "3.11.7"
  }
 },
 "nbformat": 4,
 "nbformat_minor": 4
}
