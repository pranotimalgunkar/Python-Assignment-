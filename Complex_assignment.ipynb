{
 "cells": [
  {
   "cell_type": "code",
   "execution_count": 1,
   "id": "601650bb-b016-4b34-a4f7-da656e57f60d",
   "metadata": {},
   "outputs": [
    {
     "name": "stdout",
     "output_type": "stream",
     "text": [
      "(3+4j) <class 'complex'> 1917178294512\n"
     ]
    }
   ],
   "source": [
    "# Q. Declare a complex number and store it in a variable.\n",
    "# Check the type and print the id of the same.\n",
    "\n",
    "a = 3+4j\n",
    "print(a , type(a), id(a))"
   ]
  },
  {
   "cell_type": "code",
   "execution_count": 2,
   "id": "0a40313b-b45d-46b7-a84e-14ec4df2060c",
   "metadata": {},
   "outputs": [
    {
     "name": "stdout",
     "output_type": "stream",
     "text": [
      "(9+6j)\n",
      "(3+2j)\n",
      "(10+24j)\n",
      "(2+0j)\n",
      "(97.52306038414744-62.22529992036203j)\n"
     ]
    }
   ],
   "source": [
    "# Q. Arithmetic Operations on complex number\n",
    "# Take two different complex numbers.\n",
    "# Store them in two different variables.\n",
    "# Do below operations on them:-\n",
    "# Find sum of both numbers\n",
    "# Find difference between them\n",
    "# Find the product of both numbers.\n",
    "# Find value after dividing first num with second number\n",
    "# Find the result of the first num to the power of the second number.\n",
    "\n",
    "a = 6+4j\n",
    "b = 3+2j\n",
    "print(a + b ) \n",
    "print(a - b )\n",
    "print(a * b )\n",
    "print(a / b )\n",
    "print(a**b)\n"
   ]
  },
  {
   "cell_type": "code",
   "execution_count": 1,
   "id": "1296205a-9dab-4e5e-83b3-8cd5680ece0e",
   "metadata": {},
   "outputs": [],
   "source": [
    "# Q. Comparison Operation not applicable between instance of complex\n",
    "# values.\n",
    "# Object reusability concept is not applicable on complex number\n",
    "\n",
    "# example\n",
    "a = 6+4j\n",
    "b = 3+2j\n",
    "# print(a>b)\n",
    "# print(a>=b)  #TypeError"
   ]
  },
  {
   "cell_type": "code",
   "execution_count": 5,
   "id": "4ce4313a-c111-4bbe-bed7-972857f0f5d5",
   "metadata": {},
   "outputs": [
    {
     "name": "stdout",
     "output_type": "stream",
     "text": [
      "False\n",
      "True\n"
     ]
    }
   ],
   "source": [
    "# Q. Equality Operator\n",
    "# Take two different complex numbers.\n",
    "# Store them in two different variables.\n",
    "# Equate them using equality operators (==, !=)\n",
    "# Observe the output(return type should be boolean)\n",
    "\n",
    "a = 6+4j\n",
    "b = 3+2j\n",
    "print(a==b)\n",
    "print(a!=b)"
   ]
  },
  {
   "cell_type": "code",
   "execution_count": 6,
   "id": "2a9a943b-4502-4023-8251-3e75349231f4",
   "metadata": {},
   "outputs": [
    {
     "name": "stdout",
     "output_type": "stream",
     "text": [
      "(20+30j)\n",
      "0j\n",
      "0j\n",
      "0j\n",
      "(10+20j)\n",
      "(20+30j)\n",
      "(20+30j)\n",
      "0j\n",
      "False\n",
      "True\n"
     ]
    }
   ],
   "source": [
    "# Q. Logical operators\n",
    "# Observe the output of below code\n",
    "# Cross check the output manually\n",
    "# print(10+20j and 20+30j) #20+30j\n",
    "# #----------------------------------------->Output is 20+30j\n",
    "# print(0+0j and 20+30j) #0+0j\n",
    "# #----------------------------------------->Output is 0j\n",
    "# print(20+30j and 0+0j) #0+0j\n",
    "# #----------------------------------------->Output is 0j\n",
    "# print(0+0j and 0+0j) #0+0j\n",
    "# #----------------------------------------->Output is 0j\n",
    "# print(10+20j or 20+30j) #10+20j\n",
    "# #----------------------------------------->Output is 10+20j\n",
    "\n",
    "# print(0+0j or 20+30j) #20+30j\n",
    "# #----------------------------------------->Output is 20+30j\n",
    "# print(20+30j or 0+0j) #20+30j\n",
    "# #----------------------------------------->Output is 20+30j\n",
    "# print(0+0j or 0+0j) #0+0j\n",
    "# #----------------------------------------->Output is 0j\n",
    "# print(not 10+20j) #False\n",
    "# #----------------------------------------->Output is False\n",
    "# print(not 0+0j) #True\n",
    "# #----------------------------------------->Output is True\n",
    "\n",
    "print(10+20j and 20+30j)\n",
    "print(0+0j and 20+30j) \n",
    "print(20+30j and 0+0j)\n",
    "print(0+0j and 0+0j) \n",
    "print(10+20j or 20+30j)\n",
    "print(0+0j or 20+30j) \n",
    "print(20+30j or 0+0j)\n",
    "print(0+0j or 0+0j)\n",
    "print(not 10+20j) \n",
    "print(not 0+0j) "
   ]
  },
  {
   "cell_type": "code",
   "execution_count": 7,
   "id": "80936f21-96e8-4853-8360-70648c7dc977",
   "metadata": {},
   "outputs": [
    {
     "name": "stdout",
     "output_type": "stream",
     "text": [
      "False\n",
      "True\n"
     ]
    }
   ],
   "source": [
    "# Q. What is the output of the expression inside the print statement.\n",
    "# Cross check before running the program.\n",
    "# a = 10+20j\n",
    "# b = 10+20j\n",
    "# print(a is b) #False #True or False?\n",
    "# print(a is not b) #True #True or False?\n",
    "\n",
    "a = 10+20j\n",
    "b = 10+20j\n",
    "print(a is b) \n",
    "print(a is not b)\n"
   ]
  },
  {
   "cell_type": "code",
   "execution_count": 8,
   "id": "49e316ca-947c-4661-ade0-af5a3cac1b68",
   "metadata": {},
   "outputs": [
    {
     "name": "stdout",
     "output_type": "stream",
     "text": [
      "True\n",
      "True\n",
      "True\n",
      "True\n",
      "True\n",
      "True\n"
     ]
    }
   ],
   "source": [
    "# Q. Membership operation\n",
    "# in, not in are two membership operators and it returns boolean value\n",
    "# print('2.7' in 'Python2.7.8') #True\n",
    "# print(10+20j in [10,10.20,10+20j,'Python']) #True\n",
    "# print(10+20j in (10,10.20,10+20j,'Python')) #True\n",
    "# print(30+40j in {1,20.30,30+40j}) #True\n",
    "# print(30+40j in {1:100, 2.3:200, 30+40j:300}) #True\n",
    "# print(10 in range(20)) #True\n",
    "\n",
    "print('2.7' in 'Python2.7.8')\n",
    "print(10+20j in [10,10.20,10+20j,'Python']) \n",
    "print(10+20j in (10,10.20,10+20j,'Python')) \n",
    "print(30+40j in {1,20.30,30+40j}) \n",
    "print(30+40j in {1:100, 2.3:200, 30+40j:300}) \n",
    "print(10 in range(20)) "
   ]
  }
 ],
 "metadata": {
  "kernelspec": {
   "display_name": "Python 3 (ipykernel)",
   "language": "python",
   "name": "python3"
  },
  "language_info": {
   "codemirror_mode": {
    "name": "ipython",
    "version": 3
   },
   "file_extension": ".py",
   "mimetype": "text/x-python",
   "name": "python",
   "nbconvert_exporter": "python",
   "pygments_lexer": "ipython3",
   "version": "3.11.7"
  }
 },
 "nbformat": 4,
 "nbformat_minor": 5
}
