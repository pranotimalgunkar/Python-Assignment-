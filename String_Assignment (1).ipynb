{
 "cells": [
  {
   "cell_type": "code",
   "execution_count": 1,
   "metadata": {
    "id": "OG2JlAXx3VoJ"
   },
   "outputs": [
    {
     "name": "stdin",
     "output_type": "stream",
     "text": [
      "python \n"
     ]
    },
    {
     "name": "stdout",
     "output_type": "stream",
     "text": [
      "\n",
      "<class 'str'> 140714589820640\n"
     ]
    }
   ],
   "source": [
    "#Declare a string and store it in a variable. \n",
    "a = input(\"python\")\n",
    "print(a)\n",
    "\n",
    "\n",
    "#Check the type and print the id of the same.\n",
    "print(type(a),id(a))\n",
    "\n"
   ]
  },
  {
   "cell_type": "code",
   "execution_count": 9,
   "metadata": {},
   "outputs": [
    {
     "name": "stdout",
     "output_type": "stream",
     "text": [
      "Learnbay provides\n",
      "\"Java\", \"Python\" \n",
      "classes\n"
     ]
    }
   ],
   "source": [
    "a ='''Learnbay provides\n",
    "\"Java\", \"Python\" \n",
    "classes'''\n",
    "print(a)"
   ]
  },
  {
   "cell_type": "code",
   "execution_count": 14,
   "metadata": {
    "id": "wPxm3G8W3dqN"
   },
   "outputs": [
    {
     "name": "stdout",
     "output_type": "stream",
     "text": [
      "This is Python class is valid string \n",
      "This is Python class is valid string \n",
      "This is Python class is valid string \n",
      "This is Python class is valid string \n",
      "Learnbay provides 'Java', 'Python' classes is valid string \n",
      "This is Python's class is valid string \n",
      "Learnbay provides \"Java\", \"Python\" classes is valid string \n",
      "Learnbay provides \"Java\", \"Python\" classes is valid string \n",
      "Learnbay provides\n",
      "\"Java\", \"Python\" \n",
      "classes is valid string \n"
     ]
    }
   ],
   "source": [
    "#Which are valid/invalid strings\n",
    "# 1. test_str = 'This is Python class'\n",
    "test_str = 'This is Python class'\n",
    "print(test_str ,\"is valid string \")if type(test_str == str) else print(test_str,\"is not valid string\")\n",
    "\n",
    "# 2. \"This is Python class\"\n",
    "test_str = \"This is Python class\"\n",
    "print(test_str ,\"is valid string \")if type(test_str == str) else print(test_str,\"is not valid string\")\n",
    "\n",
    "# 3. '''This is Python class'''\n",
    "test_str = '''This is Python class'''\n",
    "print(test_str ,\"is valid string \")if type(test_str == str) else print(test_str,\"is not valid string\")\n",
    "\n",
    "# 4. \"\"\"This is Python class\"\"\"\n",
    "test_str = \"\"\"This is Python class\"\"\"\n",
    "print(test_str ,\"is valid string \")if type(test_str == str) else print(test_str,\"is not valid string\")\n",
    "\n",
    "# 5. 'This is Python's class'\n",
    "# test_str = 'This is Python's class'\n",
    "# print(test_str ,\"is valid string \")if type(test_str == str) else print(test_str,\"is not valid string\")\n",
    "# This string is not valid string as the main string is inside Single Quotation and the apostrophe in Python's \n",
    "# is taken as closing quotation. If the main string is inside \"\" then there won't be an error.\n",
    "\n",
    "# 6. \"Learnbay provides \"Java\", \"Python\" classes\"\n",
    "# test_str =\"Learnbay provides \"Java\", \"Python\" classes\"\n",
    "# print(test_str ,\"is valid string \")if type(test_str == str) else print(test_str,\"is not valid string\")\n",
    "# This string is not valid string as the main string is inside Double Quotation and the double quotation in Java & Python \n",
    "# is confused for the closing quotation. If the main string is inside \"\"\" then there won't be an error.\n",
    "\n",
    "\n",
    "# 7. \"Learnbay provides 'Java', 'Python' classes\"\n",
    "test_str = \"Learnbay provides 'Java', 'Python' classes\"\n",
    "print(test_str ,\"is valid string \")if type(test_str == str) else print(test_str,\"is not valid string\")\n",
    "\n",
    "# 8. \"This is Python's class\"\n",
    "test_str = \"This is Python's class\"\n",
    "print(test_str ,\"is valid string \")if type(test_str == str) else print(test_str,\"is not valid string\")\n",
    "\n",
    "# 9. \"\"\"Learnbay provides \"Java\", \"Python\" classes\"\"\"\n",
    "test_str =  \"\"\"Learnbay provides \"Java\", \"Python\" classes\"\"\"\n",
    "print(test_str ,\"is valid string \")if type(test_str == str) else print(test_str,\"is not valid string\")\n",
    "\n",
    "# 10. '''Learnbay provides \"Java\", \"Python\" classes'''\n",
    "test_str = '''Learnbay provides \"Java\", \"Python\" classes'''\n",
    "print(test_str ,\"is valid string \")if type(test_str == str) else print(test_str,\"is not valid string\")\n",
    "\n",
    "# 11. '''Learnbay provides\n",
    "# \"Java\", \"Python\" \n",
    "# classes'''\n",
    "test_str = '''Learnbay provides\n",
    "\"Java\", \"Python\" \n",
    "classes'''\n",
    "print(test_str ,\"is valid string \")if type(test_str == str) else print(test_str,\"is not valid string\")\n",
    "\n",
    "# 12. 'This is\n",
    "# Python \n",
    "# class'\n",
    "# test_str = 'This is\n",
    "# Python \n",
    "# class'\n",
    "# print(test_str ,\"is valid string \")if type(test_str == str) else print(test_str,\"is not valid string\")\n",
    "# This string is not valid string as the main string is in the form of paragraph. \n",
    "#If the main string is inside '''''' then there won't be an error.\n",
    "\n"
   ]
  },
  {
   "cell_type": "code",
   "execution_count": 9,
   "metadata": {
    "id": "Drx8fhT23g7a"
   },
   "outputs": [
    {
     "name": "stdout",
     "output_type": "stream",
     "text": [
      "The Length of my_str is : 66\n",
      "id of my_str and my_str1 is not same?  True\n",
      "Type of my_str is : <class 'str'>\n"
     ]
    }
   ],
   "source": [
    "#Write the code to get the output mentioned below print statement\n",
    "my_str = \"Although that way may not be obvious at first unless you're Dutch.\"\n",
    "my_str1= \"Although that way may not be obvious at first unless you're Dutch.\"\n",
    "\n",
    "\n",
    "print(\"The Length of my_str is :\", len(my_str))      \n",
    "#output:- The length of my_str is 66\n",
    "\n",
    "print(\"id of my_str and my_str1 is not same? \", id(my_str)!= id(my_str1))\n",
    "# #output:- id of my_str and my_str1 is not same? - True\n",
    "\n",
    "print(\"Type of my_str is :\", type(my_str))\n",
    "# #output:- Type of my_str is: str\n",
    "\n"
   ]
  },
  {
   "cell_type": "code",
   "execution_count": 28,
   "metadata": {
    "id": "403e-I3A3lCO"
   },
   "outputs": [
    {
     "name": "stdout",
     "output_type": "stream",
     "text": [
      "The first character in my_str is: A\n",
      "The last character in my_str is: h\n",
      "The character at index 65 in my_str is: c\n",
      "The last character in my_str is: h\n",
      "The last character in my_str is: h\n",
      "The character in my_str is: 13\n",
      "The character in my_str is: 8\n"
     ]
    }
   ],
   "source": [
    "#Indexing\n",
    "my_str = \"Although 8 that way may not be obvious at first unless you're Dutch\"\n",
    "#Write the code to get the output,instructions are mentioned below print \n",
    "# statement. use indexing\n",
    "\n",
    "print(\"The first character in my_str is:\", my_str[0])\n",
    "#output:- The first character in my_str is: A\n",
    "#Note:- Use positive indexing\n",
    "\n",
    "print(\"The last character in my_str is:\", my_str[len(my_str)-1])\n",
    "#output:- The last character in my_str is: h\n",
    "#Note:- Use len() function.\n",
    "\n",
    "print(\"The character at index 65 in my_str is:\", my_str[65])\n",
    "#output:- The character at index 65 in my_str is: c\n",
    "#Note:- Use positive indexing\n",
    "\n",
    "print(\"The last character in my_str is:\", my_str[-1])\n",
    "#output:- The last character in my_str is: h\n",
    "#Note:- Use negative indexing.\n",
    "\n",
    "print(\"The last character in my_str is:\", my_str[len(my_str)-1])\n",
    "#output:- The last character in my_str is: h\n",
    "#Note:- Use len() function.\n",
    "\n",
    "print(\"The character in my_str is:\",my_str[9])\n",
    "#output:- The character in my_str is: 8\n",
    "#Note:- Use positive index"
   ]
  },
  {
   "cell_type": "code",
   "execution_count": 54,
   "metadata": {
    "id": "NK_QdtsM3luu"
   },
   "outputs": [
    {
     "name": "stdout",
     "output_type": "stream",
     "text": [
      "You have sliced: Although that way may not be obvious at first unless you're Dutch.\n",
      "You have sliced: Although that way may not be obvious at first unless you're Dutch.\n",
      "You have sliced: Although that way may not be obvious at first unless you're Dutch.\n",
      "You have sliced: Although that way may not be obvious at first unless you're Dutch.\n",
      "You have sliced: \n",
      "You have sliced: Atog htwymyntb biu tfrtuls o'eDth\n",
      "You have sliced: Ahgttam tebo  r lsorDc\n",
      "You have sliced: .hctuD er'uoy sselnu tsrif ta suoivbo eb ton yam yaw taht hguohtlA\n",
      "You have sliced: .hctuD er'uoy sselnu tsrif ta suoivbo eb ton yam yaw taht hguohtlA\n",
      "You have sliced: .cu ruysen si asovoe o a a athuhl\n",
      "You have sliced: .cu ruysen si asovoe o a a athuhl\n",
      "\n",
      "You have sliced:  yaw ta\n",
      "You have sliced: ess you\n"
     ]
    }
   ],
   "source": [
    "\n",
    "#Slicing\n",
    "my_str = \"Although that way may not be obvious at first unless you're Dutch.\"\n",
    "#Write the code to  get the output,instructions are mentioned below print statement. use slicing\n",
    "\n",
    "print(\"You have sliced:\",my_str[::])\n",
    "#output:- You have sliced: Although that way may not be obvious at first unless you're Dutch.\n",
    "# Without begin, end and step\n",
    "\n",
    "\n",
    "print(\"You have sliced:\",my_str[0:len(my_str)])\n",
    "#output:- You have sliced: Although that way may not be obvious at first unless you're Dutch.with begin as 0 end using len and without step\n",
    "\n",
    "\n",
    "print(\"You have sliced:\",my_str[::1])\n",
    "#output:- You have sliced: Although that way may not be obvious at first unless you're Dutch.without begin and end but using step\n",
    "\n",
    "\n",
    "print(\"You have sliced:\",my_str[0:len(my_str):1])\n",
    "#output:- You have sliced: Although that way may not be obvious at first unless you're Dutch.With begin, end and step\n",
    "\n",
    "\n",
    "print(\"You have sliced:\",my_str[0:len(my_str):-1])\n",
    "#output:- You have sliced:   .with using begin and end using postive values and step as negative values.\n",
    "#Slicing command should print empty string.\n",
    "\n",
    "\n",
    "print(\"You have sliced:\",my_str[0:len(my_str):2])\n",
    "#output:- You have sliced: Atog htwymyntb biu tfrtuls o'eDth\n",
    "\n",
    "\n",
    "print(\"You have sliced:\",my_str[0:len(my_str):3])\n",
    "#output:- You have sliced: Ahgttam tebo  r lsorDc\n",
    "\n",
    "\n",
    "print(\"You have sliced:\",my_str[::-1])\n",
    "#output:- You have sliced: .hctuD er'uoy sselnu tsrif ta suoivbo eb ton yam yaw taht hguohtlA. Use only step\n",
    "\n",
    "\n",
    "print(\"You have sliced:\",my_str[len(my_str):None:-1])\n",
    "#output:- You have sliced: .hctuD er'uoy sselnu tsrifta suoivbo eb ton yam yaw taht hguohtlA. Use begin end and step.\n",
    "\n",
    "\n",
    "print(\"You have sliced:\",my_str[::-2])\n",
    "#output:- You have sliced: .cu ruysen si asovoe o a a athuhl. use only step\n",
    "\n",
    "\n",
    "print(\"You have sliced:\",my_str[len(my_str):None:-2])\n",
    "#output:- You have sliced: .cu ruysen si asovoe o a a athuhl. use begin, end and step.\n",
    "\n",
    "print(my_str[10:17:-1])\n",
    "#What will be the output?\n",
    "# Output will be empty as step is moving from RHS to LHS while start and stop index are 10,17\n",
    "# which is moving from LHS to RHS. So there is a conflict.\n",
    "\n",
    "\n",
    "print(\"You have sliced:\",my_str[17:10:-1])\n",
    "#output:- You have sliced: yaw ta, Using begin, end and step.\n",
    "\n",
    "print(\"You have sliced:\",my_str[-17:-10:1])\n",
    "#output:- You have sliced: ess you. Using begin, end and step.\n"
   ]
  },
  {
   "cell_type": "code",
   "execution_count": 13,
   "metadata": {
    "id": "qUSYa5x-3n5j"
   },
   "outputs": [
    {
     "name": "stdout",
     "output_type": "stream",
     "text": [
      "Learnbay Python\n",
      "LearnbayLearnbayLearnbay\n"
     ]
    }
   ],
   "source": [
    "#Basic operation on string\n",
    "str1 = 'Learnbay'\n",
    "str2 = 'Python'\n",
    "\n",
    "#Write the code to get the output,instructions are mentioned below.\n",
    "#Output is: Learnbay Python\n",
    "print(str1,str2)\n",
    "\n",
    "# If a string is concatenated with integer  \n",
    "#Error: TypeError: can only concatenate str (not \"int\") to str\n",
    "# str3 = 10\n",
    "# print(str1 + str3)\n",
    "\n",
    "# If a string is concatenated with float number  \n",
    "# #Error: TypeError: can only concatenate str (not \"float\") to str\n",
    "# str3 = 10.2\n",
    "# print(str1+str3)\n",
    "\n",
    "\n",
    "#Find below Output\n",
    "#Output is: LearnbayLearnbayLearnbay\n",
    "print(str1*3)\n",
    "\n",
    "# If a string is multiplied with string to get a sequence \n",
    "#Error: TypeError: can't multiply sequence by non-int of type 'float'\n",
    "# print(str1*3.2)\n",
    "\n",
    "# If a string is multiplied with string to get a sequence \n",
    "#Error: TypeError: can't multiply sequence by non-int of type 'str'\n",
    "# print(str1*str2)\n"
   ]
  },
  {
   "cell_type": "code",
   "execution_count": 21,
   "metadata": {
    "id": "gREffmnr3s-p"
   },
   "outputs": [
    {
     "name": "stdout",
     "output_type": "stream",
     "text": [
      "True\n",
      "False\n",
      "False\n",
      "True\n",
      "True\n",
      "False\n"
     ]
    }
   ],
   "source": [
    "#Find below Output\n",
    "str1 = 'Python'\n",
    "str2 = 'Python'\n",
    "str3 = 'Python$'\n",
    "str4 = 'Python$'\n",
    "\n",
    "#print True by using identity operator between str1 and str2\n",
    "print(str1 is str2 )\n",
    "\n",
    "#print False by using identity operator between str1 and str3\n",
    "print(str1 is str3)\n",
    "\n",
    "#print False by using identity operator between str4 and str3\n",
    "print(str4 is str3)\n",
    "\n",
    "#Check if P is available in str1 and print True by using membership operator\n",
    "print('P' in str1)\n",
    "\n",
    "#Check if $ is available in str3 and print True by using membership operator\n",
    "print('$' in str3)\n",
    "\n",
    "#Check if N is available in str3 and print False by using membership operator\n",
    "print('N' in str3)\n",
    "\n"
   ]
  },
  {
   "cell_type": "code",
   "execution_count": 27,
   "metadata": {
    "id": "QNFjxDr73u2H"
   },
   "outputs": [],
   "source": [
    "#Complete the below code\n",
    "str1 = 'This is Python class'\n",
    "#write the code to replace 'Python' with 'Java' and you should get below error.\n",
    "#TypeError: 'str' object does not support item assignment.\n",
    "# print(str1.replace['Python','Java'])\n",
    "# String is an immutable object, the original string can't be changed while replacing a part of it."
   ]
  },
  {
   "cell_type": "code",
   "execution_count": 33,
   "metadata": {
    "id": "-JgFbPmn3w3D"
   },
   "outputs": [
    {
     "name": "stdout",
     "output_type": "stream",
     "text": [
      "True\n",
      "True\n",
      "True\n",
      "False\n",
      "False\n",
      "False\n"
     ]
    }
   ],
   "source": [
    "str1 = 'A'\n",
    "str2 = 'A'\n",
    "#Compare str1 and str2 and print True using comparison operator\n",
    "print(str1 >= str2)\n",
    "print(str1 <= str2)\n",
    "#Compare str1 and str2 and print True using equality operator\n",
    "print(str1 == str2)\n",
    "\n",
    "#Compare str1 and str2 and print False using equality operator\n",
    "print(str1 != str2)\n",
    "\n",
    "#Compare str1 and str2 and print False using comparison operator\n",
    "print(str1 > str2)\n",
    "print(str1 < str2)\n"
   ]
  },
  {
   "cell_type": "code",
   "execution_count": 37,
   "metadata": {
    "id": "fJ46_L-53yhW"
   },
   "outputs": [
    {
     "name": "stdout",
     "output_type": "stream",
     "text": [
      "True\n",
      "True\n",
      "False\n",
      "False\n"
     ]
    }
   ],
   "source": [
    "str1 = 'A'\n",
    "str2 = 'a'\n",
    "#Compare str1 and str2 and print True using comparison operator\n",
    "print(str1 <= str2)\n",
    "#Compare str1 and str2 and print True using equality operator\n",
    "print(str1 != str2)\n",
    "\n",
    "#Compare str1 and str2 and print False using equality operator\n",
    "print(str1 == str2)\n",
    "\n",
    "#Compare str1 and str2 and print False using comparison operator\n",
    "print(str1 > str2)\n"
   ]
  },
  {
   "cell_type": "code",
   "execution_count": 45,
   "metadata": {
    "id": "e-Lr9va330gi"
   },
   "outputs": [
    {
     "name": "stdout",
     "output_type": "stream",
     "text": [
      "True\n",
      "False\n"
     ]
    }
   ],
   "source": [
    "str1 = 'A'\n",
    "str2 = 65\n",
    "#Compare str1 and str2 using comparison operator and it should give below error.\n",
    "#Error: TypeError: '>=' not supported between instances of 'str' and 'int'\n",
    "# print(str1 >= str2)\n",
    "\n",
    "#Compare str1 and str2 and print True using equality operator\n",
    "print(str1 != str2)\n",
    "\n",
    "#Compare str1 and str2 and print False using equality operator\n",
    "print(str1 == str2)\n"
   ]
  },
  {
   "cell_type": "code",
   "execution_count": 50,
   "metadata": {
    "id": "JO04jmpN32Im"
   },
   "outputs": [
    {
     "name": "stdout",
     "output_type": "stream",
     "text": [
      "True\n",
      "True\n",
      "False\n",
      "False\n"
     ]
    }
   ],
   "source": [
    "str1 = 'Python'\n",
    "str2 = 'Python'\n",
    "#Compare str1 and str2 and print True using comparison operator\n",
    "print(str1 >= str2)\n",
    "\n",
    "#Compare str1 and str2 and print True using equality operator\n",
    "print(str1 == str2)\n",
    "\n",
    "#Compare str1 and str2 and print False using equality operator\n",
    "print(str1 != str2)\n",
    "\n",
    "#Compare str1 and str2 and print False using comparison operator\n",
    "print(str1 < str2)\n"
   ]
  },
  {
   "cell_type": "code",
   "execution_count": 56,
   "metadata": {
    "id": "nmVAYYC_35ip"
   },
   "outputs": [
    {
     "name": "stdout",
     "output_type": "stream",
     "text": [
      "True\n",
      "True\n",
      "False\n",
      "False\n"
     ]
    }
   ],
   "source": [
    "str1 = 'Python'\n",
    "str2 = 'python'\n",
    "#Compare str1 and str2 and print True using comparison operator\n",
    "print(str1 <= str2)\n",
    "\n",
    "#Compare str1 and str2 and print True using equality operator\n",
    "print(str1 != str2)\n",
    "\n",
    "#Compare str1 and str2 and print False using equality operator\n",
    "print(str1 == str2)\n",
    "\n",
    "#Compare str1 and str2 and print False using comparison operator\n",
    "print(str1 >= str2)\n"
   ]
  },
  {
   "cell_type": "code",
   "execution_count": 64,
   "metadata": {
    "id": "7ulv5ith37OJ"
   },
   "outputs": [
    {
     "name": "stdout",
     "output_type": "stream",
     "text": [
      "1: \n",
      "2: \n",
      "3: \n",
      "4: Python\n",
      "1: Python\n",
      "2: Python\n",
      "3: \n",
      "4: Python\n",
      "False\n",
      "True\n"
     ]
    }
   ],
   "source": [
    "a = 'Python'\n",
    "b = ''\n",
    "\n",
    "#Apply logical opereators (and, or & not) on above string values and observe the output.\n",
    "# and operator\n",
    "print(\"1:\", a and b )\n",
    "print(\"2:\",b and a)\n",
    "print(\"3:\",b and b)\n",
    "print(\"4:\",a and a)\n",
    "\n",
    "# or operator\n",
    "print(\"1:\", a or b )\n",
    "print(\"2:\",b or a)\n",
    "print(\"3:\",b or b)\n",
    "print(\"4:\",a or a)\n",
    "\n",
    "# not operator\n",
    "print( not a )\n",
    "print( not b )"
   ]
  },
  {
   "cell_type": "code",
   "execution_count": 65,
   "metadata": {
    "id": "Yg_gsZBL383n"
   },
   "outputs": [
    {
     "name": "stdout",
     "output_type": "stream",
     "text": [
      "1: \n",
      "2: \n",
      "3: \n",
      "4: \n",
      "1: \n",
      "2: \n",
      "3: \n",
      "4: \n",
      "True\n",
      "True\n"
     ]
    }
   ],
   "source": [
    "a = ''\n",
    "b = ''\n",
    "\n",
    "#Apply logical opereators (and, or & not) on above string values and observe the output.\n",
    "# and operator\n",
    "print(\"1:\", a and b )\n",
    "print(\"2:\",b and a)\n",
    "print(\"3:\",b and b)\n",
    "print(\"4:\",a and a)\n",
    "\n",
    "# or operator\n",
    "print(\"1:\", a or b )\n",
    "print(\"2:\",b or a)\n",
    "print(\"3:\",b or b)\n",
    "print(\"4:\",a or a)\n",
    "\n",
    "# not operator\n",
    "print( not a )\n",
    "print( not b )"
   ]
  },
  {
   "cell_type": "code",
   "execution_count": 66,
   "metadata": {
    "id": "cIWkP9Hf3-q5"
   },
   "outputs": [
    {
     "name": "stdout",
     "output_type": "stream",
     "text": [
      "1: learnbay\n",
      "2: Python\n",
      "3: learnbay\n",
      "4: Python\n",
      "1: Python\n",
      "2: learnbay\n",
      "3: learnbay\n",
      "4: Python\n",
      "False\n",
      "False\n"
     ]
    }
   ],
   "source": [
    "a = 'Python'\n",
    "b = 'learnbay'\n",
    "\n",
    "#Apply logical opereators (and, or & not) on above string values and observe the output.\n",
    "# and operator\n",
    "print(\"1:\", a and b )\n",
    "print(\"2:\",b and a)\n",
    "print(\"3:\",b and b)\n",
    "print(\"4:\",a and a)\n",
    "\n",
    "# or operator\n",
    "print(\"1:\", a or b )\n",
    "print(\"2:\",b or a)\n",
    "print(\"3:\",b or b)\n",
    "print(\"4:\",a or a)\n",
    "\n",
    "# not operator\n",
    "print( not a )\n",
    "print( not b )"
   ]
  },
  {
   "cell_type": "code",
   "execution_count": 2,
   "metadata": {
    "id": "Y0Ot_E704AX5"
   },
   "outputs": [
    {
     "name": "stdout",
     "output_type": "stream",
     "text": [
      "7\n",
      "2\n",
      "2\n",
      "9\n",
      "9\n",
      "-1\n",
      "11\n",
      "63\n",
      "63\n"
     ]
    }
   ],
   "source": [
    "my_str = \"Although 8 that way may not be obvious at first unless you're Dutch\"\n",
    "\n",
    "#Write the code to get the total count of 't' in above string. Use find() and index() method.\n",
    "# to calculate total count we have to use count method.\n",
    "print(my_str.count(\"t\"))\n",
    "print(my_str.find(\"t\"))\n",
    "print(my_str.index(\"t\"))\n",
    "\n",
    "#Write the code to get the index of '8' in my_str. Use find() and index() method.\n",
    "print(my_str.find(\"8\"))\n",
    "print(my_str.index(\"8\"))\n",
    "\n",
    "#What will be the output of below code?\n",
    "print(my_str.find('the'))\n",
    "\n",
    "\n",
    "# print(my_str.index('the'))\n",
    "#Since the substring 'the' is not found in the string, index() function returns error\n",
    "\n",
    "\n",
    "print(my_str.find('t', 9, 15))\n",
    "\n",
    "\n",
    "print(my_str.rfind('u'))\n",
    "\n",
    "\n",
    "print(my_str.rindex('u'))\n",
    "\n"
   ]
  },
  {
   "cell_type": "code",
   "execution_count": 18,
   "metadata": {
    "id": "Gommq59Q4CMi"
   },
   "outputs": [
    {
     "name": "stdout",
     "output_type": "stream",
     "text": [
      "Python\n",
      "Python\n",
      "Python\n"
     ]
    }
   ],
   "source": [
    "#W A P which applies strip() method if any string, which will be taken from user, starts and ends with space, or applies \n",
    "#rrstrip() method if that string only ends with space or applies lstrip() method if that string only starts with a space.\n",
    "\n",
    "#For example:- \n",
    "#input:- '    Python   '\n",
    "#output:- 'Python'\n",
    "a ='    Python   '\n",
    "print(a.strip())\n",
    "\n",
    "#input:- '    Python'\n",
    "#output:- 'Python'\n",
    "b='    Python'\n",
    "print(b.lstrip())\n",
    "\n",
    "#input:- 'Python   '\n",
    "#output:- 'Python'\n",
    "c ='Python   '\n",
    "print(c.rstrip())"
   ]
  },
  {
   "cell_type": "code",
   "execution_count": 23,
   "metadata": {
    "id": "9IUy-cpS4Dtt"
   },
   "outputs": [
    {
     "name": "stdout",
     "output_type": "stream",
     "text": [
      "ALTHOUGH 8 THAT WAY MAY NOT BE OBVIOUS AT FIRST UNLESS YOU'RE DUTCH\n",
      "although 8 that way may not be obvious at first unless you're dutch\n",
      "aLTHOUGH 8 THAT WAY MAY NOT BE OBVIOUS AT FIRST UNLESS YOU'RE dUTCH\n"
     ]
    }
   ],
   "source": [
    "my_str = \"Although 8 that way may not be obvious at first unless you're Dutch\"\n",
    "\n",
    "#Write the code to convert all alphabets in my_str into upper case.\n",
    "print(my_str.upper())\n",
    "\n",
    "#Write the code to convert all alphabets in my_str into lower case.\n",
    "print(my_str.lower())\n",
    "\n",
    "#Write the code to swap the cases of all alphabets in my_str.(lower to upper and upper to lower)\n",
    "print(my_str.swapcase()) \n",
    "\n"
   ]
  },
  {
   "cell_type": "code",
   "execution_count": 32,
   "metadata": {
    "id": "-BjS-z674HKW"
   },
   "outputs": [
    {
     "name": "stdin",
     "output_type": "stream",
     "text": [
      "Enter a string I love football\n"
     ]
    },
    {
     "name": "stdout",
     "output_type": "stream",
     "text": [
      "I Love Football\n"
     ]
    }
   ],
   "source": [
    "#Write the code which takes one string from user and if it starts with small case letter then convert it to corresponding \n",
    "#capital letter otherwise if starts with capital letters then convert first character of every word in that string into capital.\n",
    "# by using while loop \n",
    "my_str = input(\"Enter a string\")\n",
    "while True:\n",
    "    if my_str[0].islower():\n",
    "        print(my_str.capitalize())\n",
    "        break\n",
    "    elif my_str[0].isupper():\n",
    "        print(my_str.title())\n",
    "        break\n",
    "    \n",
    "          \n"
   ]
  },
  {
   "cell_type": "code",
   "execution_count": 38,
   "metadata": {},
   "outputs": [
    {
     "name": "stdin",
     "output_type": "stream",
     "text": [
      "Enter a string I love football\n"
     ]
    },
    {
     "name": "stdout",
     "output_type": "stream",
     "text": [
      "I Love Football\n"
     ]
    }
   ],
   "source": [
    "#Write the code which takes one string from user and if it starts with small case letter then convert it to corresponding \n",
    "#capital letter otherwise if starts with capital letters then convert first character of every word in that string into capital.\n",
    "# by using for loop\n",
    "my_str = input(\"Enter a string\")\n",
    "for i in my_str:\n",
    "    if i[0] == i.lower():\n",
    "        print(my_str.capitalize())\n",
    "        break\n",
    "    elif i[0] == i.upper():\n",
    "        print(my_str.title())\n",
    "        break\n",
    "    \n",
    "    "
   ]
  },
  {
   "cell_type": "code",
   "execution_count": 1,
   "metadata": {
    "id": "-MCuDy5J4JQS"
   },
   "outputs": [
    {
     "name": "stdin",
     "output_type": "stream",
     "text": [
      "Enter a string : I Love Football\n"
     ]
    },
    {
     "name": "stdout",
     "output_type": "stream",
     "text": [
      "Are all the values in string - alphanumeric? : False\n",
      "Are all the values in string - alphabet? : False\n",
      "Are all the values in string - digits? : False\n",
      "Are all letters in lower case? : False\n",
      "Are all letters in upper case? : False\n",
      "Is string in title case? : True\n",
      "Is string a space character? : False\n",
      "Are all the values in string - numeric? : False\n",
      "Are all number elements in string decimal? : False\n"
     ]
    }
   ],
   "source": [
    "#Take a string from user and check if it is:-\n",
    "#     1. alphanumeric\n",
    "#     2. alphabets\n",
    "#     3. digit\n",
    "#     4. all letters are in lower case\n",
    "#     5. all letters are in upper case\n",
    "#     6. in title case\n",
    "#     7. a space character\n",
    "#     8. numeric\n",
    "#     9. all number elements in string are decimal\n",
    "\n",
    "my_str = input(\"Enter a string \")\n",
    "print(\"Are all the values in string - alphanumeric? :\",my_str.isalnum())\n",
    "print(\"Are all the values in string - alphabet? :\",my_str.isalpha())\n",
    "print(\"Are all the values in string - digits? :\",my_str.isdigit())\n",
    "print(\"Are all letters in lower case? :\",my_str.islower())\n",
    "print(\"Are all letters in upper case? :\",my_str.isupper())\n",
    "print(\"Is string in title case? :\",my_str.istitle())\n",
    "print(\"Is string a space character? :\",my_str.isspace())\n",
    "print(\"Are all the values in string - numeric? :\",my_str.isnumeric())\n",
    "print(\"Are all number elements in string decimal? :\",my_str.isdecimal())\n",
    "\n"
   ]
  },
  {
   "cell_type": "code",
   "execution_count": 46,
   "metadata": {
    "id": "tiTN-4ik4KAG"
   },
   "outputs": [
    {
     "name": "stdin",
     "output_type": "stream",
     "text": [
      "Enter a string abc\n"
     ]
    },
    {
     "name": "stdout",
     "output_type": "stream",
     "text": [
      "Is abc a valid identifier ? True\n"
     ]
    }
   ],
   "source": [
    "#W A P which takes a string as an input and prints True if the string is valid identifier else returns False.\n",
    "#Sample Input:- 'abc', 'abc1', 'ab1c', '1abc', 'abc$', '_abc', 'if'\n",
    "my_str = input(\"Enter a string\")\n",
    "print(\"Is\",my_str,\"a valid identifier ?\",my_str.isidentifier())\n"
   ]
  },
  {
   "cell_type": "code",
   "execution_count": 47,
   "metadata": {
    "id": "tAMkSIN84MPe"
   },
   "outputs": [
    {
     "name": "stdout",
     "output_type": "stream",
     "text": [
      "True\n",
      "False\n",
      "False\n",
      "True\n"
     ]
    }
   ],
   "source": [
    "#What will be output of below code?\n",
    "s = chr(65) + chr(97)\n",
    "print(s.isprintable())\n",
    "\n",
    "s = chr(27) + chr(97)\n",
    "print(s.isprintable())\n",
    "# chr(27) - Escape character is not printable\n",
    "\n",
    "s = '\\n'\n",
    "print(s.isprintable())\n",
    "# \\n is not printable but executable\n",
    "\n",
    "s = ''\n",
    "print(s.isprintable())"
   ]
  },
  {
   "cell_type": "code",
   "execution_count": 53,
   "metadata": {
    "id": "pU9Os0mD4Pk1"
   },
   "outputs": [
    {
     "name": "stdout",
     "output_type": "stream",
     "text": [
      "True\n",
      "True\n",
      "True\n",
      "True\n",
      "False\n",
      "False\n"
     ]
    }
   ],
   "source": [
    "#What will be output of below code?\n",
    "my_string = '  '\n",
    "print(my_string.isascii())\n",
    "# Output is True\n",
    "\n",
    "my_string = 'Studytonight'\n",
    "print(my_string.isascii())\n",
    "# Output is True\n",
    "\n",
    "my_string = 'Study tonight'\n",
    "print(my_string.isascii())\n",
    "# Output is True\n",
    "\n",
    "my_string = 'Studytonight@123'\n",
    "print(my_string.isascii())\n",
    "# Output is True\n",
    "\n",
    "my_string = '°'\n",
    "print(my_string.isascii())\n",
    "# Output is False as it is an Non ascii char\n",
    "\n",
    "\n",
    "my_string = 'ö'\n",
    "print(my_string.isascii())\n",
    "# Output is False as it is an Non ascii char\n"
   ]
  },
  {
   "cell_type": "code",
   "execution_count": 54,
   "metadata": {
    "id": "VsLV8FF74QTB"
   },
   "outputs": [
    {
     "name": "stdout",
     "output_type": "stream",
     "text": [
      "The strings are equal.\n"
     ]
    }
   ],
   "source": [
    "#What will be the output of below code?\n",
    "firstString = \"der Fluß\"\n",
    "secondString = \"der Fluss\"\n",
    "\n",
    "if firstString.casefold() == secondString.casefold():\n",
    "    print('The strings are equal.')\n",
    "else:\n",
    "    print('The strings are not equal.')"
   ]
  },
  {
   "cell_type": "code",
   "execution_count": 83,
   "metadata": {
    "id": "1m0U7jLa4Wjf"
   },
   "outputs": [
    {
     "name": "stdout",
     "output_type": "stream",
     "text": [
      "python**\n",
      "**python\n",
      "**python**\n"
     ]
    }
   ],
   "source": [
    "#Write the code to get below output\n",
    "#O/P 1:- python** (using ljust method)\n",
    "a =\"python\"\n",
    "print(a.ljust(len(a) + 2, '*'))\n",
    "\n",
    "#Write the code to get below output\n",
    "#O/P 1:- **python (using rjust method)\n",
    "print(a.rjust(len(a) + 2, '*'))\n",
    "\n",
    "\n",
    "#Write the code to get below output\n",
    "#O/P 1:- **python** (using rjust method)\n",
    "file =a.rjust(len(a) + 2, '*')\n",
    "print(file.ljust(len(file) + 2, '*'))\n",
    "\n"
   ]
  },
  {
   "cell_type": "code",
   "execution_count": 84,
   "metadata": {
    "id": "cRVkvW6s4YKK"
   },
   "outputs": [
    {
     "name": "stdout",
     "output_type": "stream",
     "text": [
      "55\n"
     ]
    }
   ],
   "source": [
    "#Write a Python program to find the length of the my_str:-\n",
    "\n",
    "#Input:- 'Write a Python program to find the length of the my_str'\n",
    "#Output:- 55\n",
    "a = 'Write a Python program to find the length of the my_str'\n",
    "print(len(a))\n",
    "#Output:- 55\n"
   ]
  },
  {
   "cell_type": "code",
   "execution_count": 85,
   "metadata": {
    "id": "SjABWI284Zuz"
   },
   "outputs": [
    {
     "name": "stdout",
     "output_type": "stream",
     "text": [
      "9\n"
     ]
    }
   ],
   "source": [
    "#Write a Python program to find the total number of times letter 'p' is appeared in the below string:-\n",
    "    \n",
    "#Input:- 'peter piper picked a peck of pickled peppers.'\n",
    "#Output:- 9\n",
    "a = 'peter piper picked a peck of pickled peppers.'\n",
    "print(a.count('p'))\n"
   ]
  },
  {
   "cell_type": "code",
   "execution_count": 9,
   "metadata": {
    "id": "-iZtqbEo4bQp"
   },
   "outputs": [
    {
     "name": "stdout",
     "output_type": "stream",
     "text": [
      "Letter 'p' appeared in following indices:\n",
      "0\n",
      "6\n",
      "8\n",
      "12\n",
      "21\n",
      "29\n",
      "37\n",
      "39\n",
      "40\n"
     ]
    }
   ],
   "source": [
    "#Write a Python Program, to print all the indexes of all occurences of letter 'p' appeared in the string:-\n",
    "    \n",
    "#Input:- 'peter piper picked a peck of pickled peppers.'\n",
    "#Output:- \n",
    "# 0\n",
    "# 6\n",
    "# 8\n",
    "# 12\n",
    "# 21\n",
    "# 29\n",
    "# 37\n",
    "# 39\n",
    "# 40\n",
    "my_str = \"peter piper picked a peck of pickled peppers.\"\n",
    "j = 0\n",
    "print(\"Letter 'p' appeared in following indices:\")\n",
    "for i in my_str:\n",
    "    if my_str[j]=='p':\n",
    "        print(j)\n",
    "    j+=1\n",
    "\n",
    "        \n",
    "        \n",
    "     \n",
    "      "
   ]
  },
  {
   "cell_type": "code",
   "execution_count": 96,
   "metadata": {
    "id": "_A8Eu8f84daM"
   },
   "outputs": [
    {
     "name": "stdout",
     "output_type": "stream",
     "text": [
      "['peter', 'piper', 'picked', 'a', 'peck', 'of', 'pickled', 'peppers.']\n"
     ]
    }
   ],
   "source": [
    "#Write a python program to find below output:-\n",
    "\n",
    "#Input:- 'peter piper picked a peck of pickled peppers.'\n",
    "#Output:- ['peter', 'piper', 'picked', 'a', 'peck', 'of', 'pickled', 'peppers.']\n",
    "my_str ='peter piper picked a peck of pickled peppers.'\n",
    "print(my_str.split())\n",
    "\n"
   ]
  },
  {
   "cell_type": "code",
   "execution_count": 104,
   "metadata": {
    "id": "juh7tQuL4fNc"
   },
   "outputs": [
    {
     "name": "stdout",
     "output_type": "stream",
     "text": [
      "peppers. pickled of peck a picked piper peter\n"
     ]
    }
   ],
   "source": [
    "#Write a python program to find below output:-\n",
    "\n",
    "#Input:- 'peter piper picked a peck of pickled peppers.'\n",
    "#Output:- 'peppers. pickled of peck a picked piper peter'\n",
    "my_str ='peter piper picked a peck of pickled peppers.'\n",
    "a=(my_str.split()[::-1])\n",
    "print(' '.join(a))\n",
    "\n"
   ]
  },
  {
   "cell_type": "code",
   "execution_count": 105,
   "metadata": {
    "id": "aaHQYz194fW7"
   },
   "outputs": [
    {
     "name": "stdout",
     "output_type": "stream",
     "text": [
      ".sreppep delkcip fo kcep a dekcip repip retep\n"
     ]
    }
   ],
   "source": [
    "#Write a python program to find below output:-\n",
    "\n",
    "#Input:- 'peter piper picked a peck of pickled peppers.'\n",
    "#Output:- '.sreppep delkcip fo kcep a dekcip repip retep'\n",
    "my_str = 'peter piper picked a peck of pickled peppers.'\n",
    "print(my_str[::-1])"
   ]
  },
  {
   "cell_type": "code",
   "execution_count": 115,
   "metadata": {
    "id": "LSgj9glC4feI",
    "scrolled": true
   },
   "outputs": [
    {
     "name": "stdout",
     "output_type": "stream",
     "text": [
      "Input is : peter piper picked a peck of pickled peppers.\n",
      "Output is: retep repip dekcip a kcep fo delkcip .sreppep \n"
     ]
    }
   ],
   "source": [
    "#Write a python program to find below output:-\n",
    "\n",
    "#Input:- 'peter piper picked a peck of pickled peppers.'\n",
    "#Output:- 'retep repip dekcip a kcep fo delkcip .sreppep'\n",
    "my_str = 'peter piper picked a peck of pickled peppers.'\n",
    "print(\"Input is :\", my_str)\n",
    "lst = my_str.split()\n",
    "new_str = \"\"\n",
    "\n",
    "for ele in lst:\n",
    "    new_str += ''.join(ele[::-1])\n",
    "    new_str +=\" \"\n",
    "\n",
    "print(\"Output is:\", new_str)\n",
    "\n"
   ]
  },
  {
   "cell_type": "code",
   "execution_count": 116,
   "metadata": {
    "id": "WUxPAkY94foo"
   },
   "outputs": [
    {
     "name": "stdout",
     "output_type": "stream",
     "text": [
      "Peter Piper Picked A Peck Of Pickled Peppers.\n"
     ]
    }
   ],
   "source": [
    "#Write a python program to find below output:-\n",
    "\n",
    "#Input:- 'peter piper picked a peck of pickled peppers.'\n",
    "#Output:- 'Peter Piper Picked A Peck Of Pickled Peppers.'\n",
    "my_str = 'peter piper picked a peck of pickled peppers.'\n",
    "print(my_str.title())\n",
    "\n"
   ]
  },
  {
   "cell_type": "code",
   "execution_count": 118,
   "metadata": {
    "id": "IT1NSPxA4mww"
   },
   "outputs": [
    {
     "name": "stdout",
     "output_type": "stream",
     "text": [
      "Peter piper picked a peck of pickled peppers.\n"
     ]
    }
   ],
   "source": [
    "#Write a python program to find below output:-\n",
    "\n",
    "#Input:- 'Peter Piper Picked A Peck Of Pickled Peppers.'\n",
    "#Output:- 'Peter piper picked a peck of pickled peppers.'\n",
    "my_str='Peter Piper Picked A Peck Of Pickled Peppers.'\n",
    "print(my_str.capitalize())"
   ]
  },
  {
   "cell_type": "code",
   "execution_count": 119,
   "metadata": {
    "id": "3Gg65vSc4m3C"
   },
   "outputs": [
    {
     "name": "stdout",
     "output_type": "stream",
     "text": [
      "29\n"
     ]
    }
   ],
   "source": [
    "#Write a python program to implement index method. If sub_str is found in my_str then it will print the index\n",
    "# of first occurrence of first character of matching string in my_str:-\n",
    "\n",
    "#Input:- my_str = 'Peter Piper Picked A Peck Of Pickled Peppers.', sub_str = 'Pickl'\n",
    "#Output:- 29\n",
    "my_str = 'Peter Piper Picked A Peck Of Pickled Peppers.'\n",
    "sub_str = 'Pickl'\n",
    "print(my_str.find(sub_str))\n"
   ]
  },
  {
   "cell_type": "code",
   "execution_count": 135,
   "metadata": {
    "id": "iFRhp_JI4m6k"
   },
   "outputs": [
    {
     "name": "stdout",
     "output_type": "stream",
     "text": [
      "Output after replacement is: Peter Piper Picked A Pack Of Pickled Peppers.\n"
     ]
    }
   ],
   "source": [
    "#Write a python program to implement replace method. If sub_str is found in my_str then it will replace the first \n",
    "#occurrence of sub_str with new_str else it will will print sub_str not found:-\n",
    "\n",
    "#Input:- my_str = 'Peter Piper Picked A Peck Of Pickled Peppers.', sub_str = 'Peck', new_str = 'Pack'\n",
    "#Output:- 'Peter Piper Picked A Pack Of Pickled Peppers.'\n",
    "my_str = 'Peter Piper Picked A Peck Of Pickled Peppers.'\n",
    "sub_str = 'Peck'\n",
    "new_str = 'Pack'\n",
    "print(\"Output after replacement is:\",my_str.replace(sub_str,new_str))\n",
    "    \n",
    "        "
   ]
  },
  {
   "cell_type": "code",
   "execution_count": 136,
   "metadata": {
    "id": "dQ9YhBBc4m9V"
   },
   "outputs": [
    {
     "name": "stdout",
     "output_type": "stream",
     "text": [
      "Input  is Peter Piper Picked A Peck Of Pickled Peppers.\n",
      "Output is *********************Peck********************\n"
     ]
    }
   ],
   "source": [
    "#Write a python program to find below output (implements rjust and ljust):-\n",
    "\n",
    "#Input:- 'Peter Piper Picked A Peck Of Pickled Peppers.', sub_str = 'Peck', \n",
    "#Output:- '*********************Peck********************'\n",
    "my_str = 'Peter Piper Picked A Peck Of Pickled Peppers.'\n",
    "sub_str = 'Peck'\n",
    "\n",
    "print(\"Input  is\",my_str)\n",
    "temp = sub_str.rjust(my_str.index(sub_str)+len(sub_str), '*')\n",
    "print(\"Output is\",temp.ljust(len(my_str), '*'))\n"
   ]
  }
 ],
 "metadata": {
  "colab": {
   "collapsed_sections": [],
   "name": "String_Assignment.ipynb",
   "provenance": []
  },
  "kernelspec": {
   "display_name": "Python 3 (ipykernel)",
   "language": "python",
   "name": "python3"
  },
  "language_info": {
   "codemirror_mode": {
    "name": "ipython",
    "version": 3
   },
   "file_extension": ".py",
   "mimetype": "text/x-python",
   "name": "python",
   "nbconvert_exporter": "python",
   "pygments_lexer": "ipython3",
   "version": "3.11.7"
  },
  "latex_envs": {
   "LaTeX_envs_menu_present": true,
   "autoclose": false,
   "autocomplete": true,
   "bibliofile": "biblio.bib",
   "cite_by": "apalike",
   "current_citInitial": 1,
   "eqLabelWithNumbers": true,
   "eqNumInitial": 1,
   "hotkeys": {
    "equation": "Ctrl-E",
    "itemize": "Ctrl-I"
   },
   "labels_anchors": false,
   "latex_user_defs": false,
   "report_style_numbering": false,
   "user_envs_cfg": false
  },
  "varInspector": {
   "cols": {
    "lenName": 16,
    "lenType": 16,
    "lenVar": 40
   },
   "kernels_config": {
    "python": {
     "delete_cmd_postfix": "",
     "delete_cmd_prefix": "del ",
     "library": "var_list.py",
     "varRefreshCmd": "print(var_dic_list())"
    },
    "r": {
     "delete_cmd_postfix": ") ",
     "delete_cmd_prefix": "rm(",
     "library": "var_list.r",
     "varRefreshCmd": "cat(var_dic_list()) "
    }
   },
   "types_to_exclude": [
    "module",
    "function",
    "builtin_function_or_method",
    "instance",
    "_Feature"
   ],
   "window_display": false
  }
 },
 "nbformat": 4,
 "nbformat_minor": 4
}
